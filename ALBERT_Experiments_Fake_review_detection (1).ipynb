{
  "cells": [
    {
      "cell_type": "code",
      "source": [
        "import tensorflow as tf\n",
        "device_list = tf.test.gpu_device_name()\n",
        "device_list"
      ],
      "metadata": {
        "colab": {
          "base_uri": "https://localhost:8080/",
          "height": 36
        },
        "id": "F6g0YNQzMYqL",
        "outputId": "7d04bf55-aac9-4ae3-b56e-30cc58d0d1cb"
      },
      "id": "F6g0YNQzMYqL",
      "execution_count": null,
      "outputs": [
        {
          "output_type": "execute_result",
          "data": {
            "text/plain": [
              "'/device:GPU:0'"
            ],
            "application/vnd.google.colaboratory.intrinsic+json": {
              "type": "string"
            }
          },
          "metadata": {},
          "execution_count": 1
        }
      ]
    },
    {
      "cell_type": "markdown",
      "id": "b948b5a6",
      "metadata": {
        "id": "b948b5a6"
      },
      "source": [
        "## Reading the data"
      ]
    },
    {
      "cell_type": "code",
      "source": [
        "from google.colab import drive\n",
        "drive.mount('/content/drive')"
      ],
      "metadata": {
        "id": "80cMNpPJZrTc",
        "colab": {
          "base_uri": "https://localhost:8080/"
        },
        "outputId": "6f2bdfbd-bfb4-4568-8353-05b604bd9096"
      },
      "id": "80cMNpPJZrTc",
      "execution_count": null,
      "outputs": [
        {
          "output_type": "stream",
          "name": "stdout",
          "text": [
            "Mounted at /content/drive\n"
          ]
        }
      ]
    },
    {
      "cell_type": "markdown",
      "id": "90488eb7",
      "metadata": {
        "id": "90488eb7"
      },
      "source": [
        "https://github.com/aayush210789/Deception-Detection-on-Amazon-reviews-dataset/blob/master/amazon_reviews.txt"
      ]
    },
    {
      "cell_type": "code",
      "execution_count": null,
      "id": "69c3882c",
      "metadata": {
        "id": "69c3882c"
      },
      "outputs": [],
      "source": [
        "import pandas as pd\n",
        "import numpy as np\n",
        "import warnings\n",
        "warnings.filterwarnings('ignore')\n",
        "\n",
        "import seaborn as sns\n",
        "import matplotlib.pyplot as plt\n",
        "\n",
        "import re\n",
        "\n",
        "# Importing sklearn.metrics libraries\n",
        "from sklearn.metrics import roc_auc_score, roc_curve, accuracy_score\n",
        "from sklearn.metrics import classification_report, confusion_matrix\n",
        "\n",
        "# Libraries required for hyper-parameter tuning\n",
        "from sklearn.model_selection import GridSearchCV\n",
        "from sklearn.model_selection import KFold"
      ]
    },
    {
      "cell_type": "code",
      "execution_count": null,
      "id": "bc3bced4",
      "metadata": {
        "id": "bc3bced4"
      },
      "outputs": [],
      "source": [
        "data = pd.read_csv(\"/content/drive/MyDrive/MS-Thesis backup/datasets/amazon_reviews.txt\", delimiter = \"\\t\")"
      ]
    },
    {
      "cell_type": "code",
      "execution_count": null,
      "id": "68a98586",
      "metadata": {
        "id": "68a98586",
        "colab": {
          "base_uri": "https://localhost:8080/"
        },
        "outputId": "e2369a3d-7bd3-4d51-d76b-25f8f2661f00"
      },
      "outputs": [
        {
          "output_type": "execute_result",
          "data": {
            "text/plain": [
              "   DOC_ID       LABEL  RATING VERIFIED_PURCHASE PRODUCT_CATEGORY  PRODUCT_ID  \\\n",
              "0       1  __label1__       4                 N               PC  B00008NG7N   \n",
              "1       2  __label1__       4                 Y         Wireless  B00LH0Y3NM   \n",
              "2       3  __label1__       3                 N             Baby  B000I5UZ1Q   \n",
              "3       4  __label1__       4                 N  Office Products  B003822IRA   \n",
              "4       5  __label1__       4                 N           Beauty  B00PWSAXAM   \n",
              "\n",
              "                                       PRODUCT_TITLE  \\\n",
              "0        Targus PAUK10U Ultra Mini USB Keypad, Black   \n",
              "1  Note 3 Battery : Stalion Strength Replacement ...   \n",
              "2       Fisher-Price Papasan Cradle Swing, Starlight   \n",
              "3  Casio MS-80B Standard Function Desktop Calculator   \n",
              "4  Shine Whitening - Zero Peroxide Teeth Whitenin...   \n",
              "\n",
              "               REVIEW_TITLE                                        REVIEW_TEXT  \n",
              "0                    useful  When least you think so, this product will sav...  \n",
              "1     New era for batteries  Lithium batteries are something new introduced...  \n",
              "2  doesn't swing very well.  I purchased this swing for my baby. She is 6 m...  \n",
              "3          Great computing!  I was looking for an inexpensive desk calcolat...  \n",
              "4     Only use twice a week  I only use it twice a week and the results are...  "
            ],
            "text/html": [
              "\n",
              "  <div id=\"df-f8e79e9e-4798-4131-b543-25cfc6434de3\">\n",
              "    <div class=\"colab-df-container\">\n",
              "      <div>\n",
              "<style scoped>\n",
              "    .dataframe tbody tr th:only-of-type {\n",
              "        vertical-align: middle;\n",
              "    }\n",
              "\n",
              "    .dataframe tbody tr th {\n",
              "        vertical-align: top;\n",
              "    }\n",
              "\n",
              "    .dataframe thead th {\n",
              "        text-align: right;\n",
              "    }\n",
              "</style>\n",
              "<table border=\"1\" class=\"dataframe\">\n",
              "  <thead>\n",
              "    <tr style=\"text-align: right;\">\n",
              "      <th></th>\n",
              "      <th>DOC_ID</th>\n",
              "      <th>LABEL</th>\n",
              "      <th>RATING</th>\n",
              "      <th>VERIFIED_PURCHASE</th>\n",
              "      <th>PRODUCT_CATEGORY</th>\n",
              "      <th>PRODUCT_ID</th>\n",
              "      <th>PRODUCT_TITLE</th>\n",
              "      <th>REVIEW_TITLE</th>\n",
              "      <th>REVIEW_TEXT</th>\n",
              "    </tr>\n",
              "  </thead>\n",
              "  <tbody>\n",
              "    <tr>\n",
              "      <th>0</th>\n",
              "      <td>1</td>\n",
              "      <td>__label1__</td>\n",
              "      <td>4</td>\n",
              "      <td>N</td>\n",
              "      <td>PC</td>\n",
              "      <td>B00008NG7N</td>\n",
              "      <td>Targus PAUK10U Ultra Mini USB Keypad, Black</td>\n",
              "      <td>useful</td>\n",
              "      <td>When least you think so, this product will sav...</td>\n",
              "    </tr>\n",
              "    <tr>\n",
              "      <th>1</th>\n",
              "      <td>2</td>\n",
              "      <td>__label1__</td>\n",
              "      <td>4</td>\n",
              "      <td>Y</td>\n",
              "      <td>Wireless</td>\n",
              "      <td>B00LH0Y3NM</td>\n",
              "      <td>Note 3 Battery : Stalion Strength Replacement ...</td>\n",
              "      <td>New era for batteries</td>\n",
              "      <td>Lithium batteries are something new introduced...</td>\n",
              "    </tr>\n",
              "    <tr>\n",
              "      <th>2</th>\n",
              "      <td>3</td>\n",
              "      <td>__label1__</td>\n",
              "      <td>3</td>\n",
              "      <td>N</td>\n",
              "      <td>Baby</td>\n",
              "      <td>B000I5UZ1Q</td>\n",
              "      <td>Fisher-Price Papasan Cradle Swing, Starlight</td>\n",
              "      <td>doesn't swing very well.</td>\n",
              "      <td>I purchased this swing for my baby. She is 6 m...</td>\n",
              "    </tr>\n",
              "    <tr>\n",
              "      <th>3</th>\n",
              "      <td>4</td>\n",
              "      <td>__label1__</td>\n",
              "      <td>4</td>\n",
              "      <td>N</td>\n",
              "      <td>Office Products</td>\n",
              "      <td>B003822IRA</td>\n",
              "      <td>Casio MS-80B Standard Function Desktop Calculator</td>\n",
              "      <td>Great computing!</td>\n",
              "      <td>I was looking for an inexpensive desk calcolat...</td>\n",
              "    </tr>\n",
              "    <tr>\n",
              "      <th>4</th>\n",
              "      <td>5</td>\n",
              "      <td>__label1__</td>\n",
              "      <td>4</td>\n",
              "      <td>N</td>\n",
              "      <td>Beauty</td>\n",
              "      <td>B00PWSAXAM</td>\n",
              "      <td>Shine Whitening - Zero Peroxide Teeth Whitenin...</td>\n",
              "      <td>Only use twice a week</td>\n",
              "      <td>I only use it twice a week and the results are...</td>\n",
              "    </tr>\n",
              "  </tbody>\n",
              "</table>\n",
              "</div>\n",
              "      <button class=\"colab-df-convert\" onclick=\"convertToInteractive('df-f8e79e9e-4798-4131-b543-25cfc6434de3')\"\n",
              "              title=\"Convert this dataframe to an interactive table.\"\n",
              "              style=\"display:none;\">\n",
              "        \n",
              "  <svg xmlns=\"http://www.w3.org/2000/svg\" height=\"24px\"viewBox=\"0 0 24 24\"\n",
              "       width=\"24px\">\n",
              "    <path d=\"M0 0h24v24H0V0z\" fill=\"none\"/>\n",
              "    <path d=\"M18.56 5.44l.94 2.06.94-2.06 2.06-.94-2.06-.94-.94-2.06-.94 2.06-2.06.94zm-11 1L8.5 8.5l.94-2.06 2.06-.94-2.06-.94L8.5 2.5l-.94 2.06-2.06.94zm10 10l.94 2.06.94-2.06 2.06-.94-2.06-.94-.94-2.06-.94 2.06-2.06.94z\"/><path d=\"M17.41 7.96l-1.37-1.37c-.4-.4-.92-.59-1.43-.59-.52 0-1.04.2-1.43.59L10.3 9.45l-7.72 7.72c-.78.78-.78 2.05 0 2.83L4 21.41c.39.39.9.59 1.41.59.51 0 1.02-.2 1.41-.59l7.78-7.78 2.81-2.81c.8-.78.8-2.07 0-2.86zM5.41 20L4 18.59l7.72-7.72 1.47 1.35L5.41 20z\"/>\n",
              "  </svg>\n",
              "      </button>\n",
              "      \n",
              "  <style>\n",
              "    .colab-df-container {\n",
              "      display:flex;\n",
              "      flex-wrap:wrap;\n",
              "      gap: 12px;\n",
              "    }\n",
              "\n",
              "    .colab-df-convert {\n",
              "      background-color: #E8F0FE;\n",
              "      border: none;\n",
              "      border-radius: 50%;\n",
              "      cursor: pointer;\n",
              "      display: none;\n",
              "      fill: #1967D2;\n",
              "      height: 32px;\n",
              "      padding: 0 0 0 0;\n",
              "      width: 32px;\n",
              "    }\n",
              "\n",
              "    .colab-df-convert:hover {\n",
              "      background-color: #E2EBFA;\n",
              "      box-shadow: 0px 1px 2px rgba(60, 64, 67, 0.3), 0px 1px 3px 1px rgba(60, 64, 67, 0.15);\n",
              "      fill: #174EA6;\n",
              "    }\n",
              "\n",
              "    [theme=dark] .colab-df-convert {\n",
              "      background-color: #3B4455;\n",
              "      fill: #D2E3FC;\n",
              "    }\n",
              "\n",
              "    [theme=dark] .colab-df-convert:hover {\n",
              "      background-color: #434B5C;\n",
              "      box-shadow: 0px 1px 3px 1px rgba(0, 0, 0, 0.15);\n",
              "      filter: drop-shadow(0px 1px 2px rgba(0, 0, 0, 0.3));\n",
              "      fill: #FFFFFF;\n",
              "    }\n",
              "  </style>\n",
              "\n",
              "      <script>\n",
              "        const buttonEl =\n",
              "          document.querySelector('#df-f8e79e9e-4798-4131-b543-25cfc6434de3 button.colab-df-convert');\n",
              "        buttonEl.style.display =\n",
              "          google.colab.kernel.accessAllowed ? 'block' : 'none';\n",
              "\n",
              "        async function convertToInteractive(key) {\n",
              "          const element = document.querySelector('#df-f8e79e9e-4798-4131-b543-25cfc6434de3');\n",
              "          const dataTable =\n",
              "            await google.colab.kernel.invokeFunction('convertToInteractive',\n",
              "                                                     [key], {});\n",
              "          if (!dataTable) return;\n",
              "\n",
              "          const docLinkHtml = 'Like what you see? Visit the ' +\n",
              "            '<a target=\"_blank\" href=https://colab.research.google.com/notebooks/data_table.ipynb>data table notebook</a>'\n",
              "            + ' to learn more about interactive tables.';\n",
              "          element.innerHTML = '';\n",
              "          dataTable['output_type'] = 'display_data';\n",
              "          await google.colab.output.renderOutput(dataTable, element);\n",
              "          const docLink = document.createElement('div');\n",
              "          docLink.innerHTML = docLinkHtml;\n",
              "          element.appendChild(docLink);\n",
              "        }\n",
              "      </script>\n",
              "    </div>\n",
              "  </div>\n",
              "  "
            ]
          },
          "metadata": {},
          "execution_count": 5
        }
      ],
      "source": [
        "data.head()"
      ]
    },
    {
      "cell_type": "code",
      "execution_count": null,
      "id": "c23afd3a",
      "metadata": {
        "colab": {
          "base_uri": "https://localhost:8080/"
        },
        "id": "c23afd3a",
        "outputId": "e048ee89-13e2-4c8b-e614-e1e15e160827"
      },
      "outputs": [
        {
          "output_type": "execute_result",
          "data": {
            "text/plain": [
              "(21000, 9)"
            ]
          },
          "metadata": {},
          "execution_count": 6
        }
      ],
      "source": [
        "data.shape"
      ]
    },
    {
      "cell_type": "code",
      "execution_count": null,
      "id": "ffd821f3",
      "metadata": {
        "colab": {
          "base_uri": "https://localhost:8080/"
        },
        "id": "ffd821f3",
        "outputId": "1bf2eb55-ee70-4dce-9165-4a6290aa15ee"
      },
      "outputs": [
        {
          "output_type": "stream",
          "name": "stdout",
          "text": [
            "<class 'pandas.core.frame.DataFrame'>\n",
            "RangeIndex: 21000 entries, 0 to 20999\n",
            "Data columns (total 9 columns):\n",
            " #   Column             Non-Null Count  Dtype \n",
            "---  ------             --------------  ----- \n",
            " 0   DOC_ID             21000 non-null  int64 \n",
            " 1   LABEL              21000 non-null  object\n",
            " 2   RATING             21000 non-null  int64 \n",
            " 3   VERIFIED_PURCHASE  21000 non-null  object\n",
            " 4   PRODUCT_CATEGORY   21000 non-null  object\n",
            " 5   PRODUCT_ID         21000 non-null  object\n",
            " 6   PRODUCT_TITLE      21000 non-null  object\n",
            " 7   REVIEW_TITLE       21000 non-null  object\n",
            " 8   REVIEW_TEXT        21000 non-null  object\n",
            "dtypes: int64(2), object(7)\n",
            "memory usage: 1.4+ MB\n"
          ]
        }
      ],
      "source": [
        "data.info()"
      ]
    },
    {
      "cell_type": "markdown",
      "id": "470064da",
      "metadata": {
        "id": "470064da"
      },
      "source": [
        "## Data Cleaning"
      ]
    },
    {
      "cell_type": "code",
      "execution_count": null,
      "id": "88b2459a",
      "metadata": {
        "id": "88b2459a"
      },
      "outputs": [],
      "source": [
        "#Dropping unnecessary columns\n",
        "data.drop(['DOC_ID','PRODUCT_ID'], axis=1, inplace=True) #The IDs in this case do not provide any useful information, hence dropping them"
      ]
    },
    {
      "cell_type": "code",
      "execution_count": null,
      "id": "330acca7",
      "metadata": {
        "colab": {
          "base_uri": "https://localhost:8080/"
        },
        "id": "330acca7",
        "outputId": "66f8981a-21a2-463c-8637-3d5a738ce8ad"
      },
      "outputs": [
        {
          "output_type": "execute_result",
          "data": {
            "text/plain": [
              "__label1__    10500\n",
              "__label2__    10500\n",
              "Name: LABEL, dtype: int64"
            ]
          },
          "metadata": {},
          "execution_count": 9
        }
      ],
      "source": [
        "data.LABEL.value_counts()"
      ]
    },
    {
      "cell_type": "code",
      "execution_count": null,
      "id": "329dfeca",
      "metadata": {
        "id": "329dfeca"
      },
      "outputs": [],
      "source": [
        "# Renaming the Label into numeric\n",
        "data.loc[data[\"LABEL\"] == \"__label1__\", \"LABEL\"] = '1'\n",
        "data.loc[data[\"LABEL\"] == \"__label2__\", \"LABEL\"] = '0'"
      ]
    },
    {
      "cell_type": "code",
      "execution_count": null,
      "id": "6a905812",
      "metadata": {
        "colab": {
          "base_uri": "https://localhost:8080/"
        },
        "id": "6a905812",
        "outputId": "128afa28-fb4f-4b89-c532-12cc77584b86"
      },
      "outputs": [
        {
          "output_type": "execute_result",
          "data": {
            "text/plain": [
              "  LABEL  RATING VERIFIED_PURCHASE PRODUCT_CATEGORY  \\\n",
              "0     1       4                 N               PC   \n",
              "\n",
              "                                 PRODUCT_TITLE REVIEW_TITLE  \\\n",
              "0  Targus PAUK10U Ultra Mini USB Keypad, Black       useful   \n",
              "\n",
              "                                         REVIEW_TEXT  \n",
              "0  When least you think so, this product will sav...  "
            ],
            "text/html": [
              "\n",
              "  <div id=\"df-d6737914-4566-4e8e-8e5e-895d6d59c80b\">\n",
              "    <div class=\"colab-df-container\">\n",
              "      <div>\n",
              "<style scoped>\n",
              "    .dataframe tbody tr th:only-of-type {\n",
              "        vertical-align: middle;\n",
              "    }\n",
              "\n",
              "    .dataframe tbody tr th {\n",
              "        vertical-align: top;\n",
              "    }\n",
              "\n",
              "    .dataframe thead th {\n",
              "        text-align: right;\n",
              "    }\n",
              "</style>\n",
              "<table border=\"1\" class=\"dataframe\">\n",
              "  <thead>\n",
              "    <tr style=\"text-align: right;\">\n",
              "      <th></th>\n",
              "      <th>LABEL</th>\n",
              "      <th>RATING</th>\n",
              "      <th>VERIFIED_PURCHASE</th>\n",
              "      <th>PRODUCT_CATEGORY</th>\n",
              "      <th>PRODUCT_TITLE</th>\n",
              "      <th>REVIEW_TITLE</th>\n",
              "      <th>REVIEW_TEXT</th>\n",
              "    </tr>\n",
              "  </thead>\n",
              "  <tbody>\n",
              "    <tr>\n",
              "      <th>0</th>\n",
              "      <td>1</td>\n",
              "      <td>4</td>\n",
              "      <td>N</td>\n",
              "      <td>PC</td>\n",
              "      <td>Targus PAUK10U Ultra Mini USB Keypad, Black</td>\n",
              "      <td>useful</td>\n",
              "      <td>When least you think so, this product will sav...</td>\n",
              "    </tr>\n",
              "  </tbody>\n",
              "</table>\n",
              "</div>\n",
              "      <button class=\"colab-df-convert\" onclick=\"convertToInteractive('df-d6737914-4566-4e8e-8e5e-895d6d59c80b')\"\n",
              "              title=\"Convert this dataframe to an interactive table.\"\n",
              "              style=\"display:none;\">\n",
              "        \n",
              "  <svg xmlns=\"http://www.w3.org/2000/svg\" height=\"24px\"viewBox=\"0 0 24 24\"\n",
              "       width=\"24px\">\n",
              "    <path d=\"M0 0h24v24H0V0z\" fill=\"none\"/>\n",
              "    <path d=\"M18.56 5.44l.94 2.06.94-2.06 2.06-.94-2.06-.94-.94-2.06-.94 2.06-2.06.94zm-11 1L8.5 8.5l.94-2.06 2.06-.94-2.06-.94L8.5 2.5l-.94 2.06-2.06.94zm10 10l.94 2.06.94-2.06 2.06-.94-2.06-.94-.94-2.06-.94 2.06-2.06.94z\"/><path d=\"M17.41 7.96l-1.37-1.37c-.4-.4-.92-.59-1.43-.59-.52 0-1.04.2-1.43.59L10.3 9.45l-7.72 7.72c-.78.78-.78 2.05 0 2.83L4 21.41c.39.39.9.59 1.41.59.51 0 1.02-.2 1.41-.59l7.78-7.78 2.81-2.81c.8-.78.8-2.07 0-2.86zM5.41 20L4 18.59l7.72-7.72 1.47 1.35L5.41 20z\"/>\n",
              "  </svg>\n",
              "      </button>\n",
              "      \n",
              "  <style>\n",
              "    .colab-df-container {\n",
              "      display:flex;\n",
              "      flex-wrap:wrap;\n",
              "      gap: 12px;\n",
              "    }\n",
              "\n",
              "    .colab-df-convert {\n",
              "      background-color: #E8F0FE;\n",
              "      border: none;\n",
              "      border-radius: 50%;\n",
              "      cursor: pointer;\n",
              "      display: none;\n",
              "      fill: #1967D2;\n",
              "      height: 32px;\n",
              "      padding: 0 0 0 0;\n",
              "      width: 32px;\n",
              "    }\n",
              "\n",
              "    .colab-df-convert:hover {\n",
              "      background-color: #E2EBFA;\n",
              "      box-shadow: 0px 1px 2px rgba(60, 64, 67, 0.3), 0px 1px 3px 1px rgba(60, 64, 67, 0.15);\n",
              "      fill: #174EA6;\n",
              "    }\n",
              "\n",
              "    [theme=dark] .colab-df-convert {\n",
              "      background-color: #3B4455;\n",
              "      fill: #D2E3FC;\n",
              "    }\n",
              "\n",
              "    [theme=dark] .colab-df-convert:hover {\n",
              "      background-color: #434B5C;\n",
              "      box-shadow: 0px 1px 3px 1px rgba(0, 0, 0, 0.15);\n",
              "      filter: drop-shadow(0px 1px 2px rgba(0, 0, 0, 0.3));\n",
              "      fill: #FFFFFF;\n",
              "    }\n",
              "  </style>\n",
              "\n",
              "      <script>\n",
              "        const buttonEl =\n",
              "          document.querySelector('#df-d6737914-4566-4e8e-8e5e-895d6d59c80b button.colab-df-convert');\n",
              "        buttonEl.style.display =\n",
              "          google.colab.kernel.accessAllowed ? 'block' : 'none';\n",
              "\n",
              "        async function convertToInteractive(key) {\n",
              "          const element = document.querySelector('#df-d6737914-4566-4e8e-8e5e-895d6d59c80b');\n",
              "          const dataTable =\n",
              "            await google.colab.kernel.invokeFunction('convertToInteractive',\n",
              "                                                     [key], {});\n",
              "          if (!dataTable) return;\n",
              "\n",
              "          const docLinkHtml = 'Like what you see? Visit the ' +\n",
              "            '<a target=\"_blank\" href=https://colab.research.google.com/notebooks/data_table.ipynb>data table notebook</a>'\n",
              "            + ' to learn more about interactive tables.';\n",
              "          element.innerHTML = '';\n",
              "          dataTable['output_type'] = 'display_data';\n",
              "          await google.colab.output.renderOutput(dataTable, element);\n",
              "          const docLink = document.createElement('div');\n",
              "          docLink.innerHTML = docLinkHtml;\n",
              "          element.appendChild(docLink);\n",
              "        }\n",
              "      </script>\n",
              "    </div>\n",
              "  </div>\n",
              "  "
            ]
          },
          "metadata": {},
          "execution_count": 11
        }
      ],
      "source": [
        "data.head(1)"
      ]
    },
    {
      "cell_type": "code",
      "execution_count": null,
      "id": "5ec6af24",
      "metadata": {
        "colab": {
          "base_uri": "https://localhost:8080/"
        },
        "id": "5ec6af24",
        "outputId": "d2ede509-0ff4-4d14-9554-5b03c98ac7b1"
      },
      "outputs": [
        {
          "output_type": "stream",
          "name": "stdout",
          "text": [
            "<class 'pandas.core.frame.DataFrame'>\n",
            "RangeIndex: 21000 entries, 0 to 20999\n",
            "Data columns (total 7 columns):\n",
            " #   Column             Non-Null Count  Dtype \n",
            "---  ------             --------------  ----- \n",
            " 0   LABEL              21000 non-null  object\n",
            " 1   RATING             21000 non-null  int64 \n",
            " 2   VERIFIED_PURCHASE  21000 non-null  object\n",
            " 3   PRODUCT_CATEGORY   21000 non-null  object\n",
            " 4   PRODUCT_TITLE      21000 non-null  object\n",
            " 5   REVIEW_TITLE       21000 non-null  object\n",
            " 6   REVIEW_TEXT        21000 non-null  object\n",
            "dtypes: int64(1), object(6)\n",
            "memory usage: 1.1+ MB\n"
          ]
        }
      ],
      "source": [
        "data.info()"
      ]
    },
    {
      "cell_type": "code",
      "execution_count": null,
      "id": "94a96a2f",
      "metadata": {
        "id": "94a96a2f"
      },
      "outputs": [],
      "source": [
        "data['LABEL'] = data['LABEL'].astype(int)"
      ]
    },
    {
      "cell_type": "markdown",
      "metadata": {
        "id": "c1df0edc"
      },
      "source": [
        "## EDA"
      ],
      "id": "c1df0edc"
    },
    {
      "cell_type": "markdown",
      "metadata": {
        "id": "21965167"
      },
      "source": [
        "##### Univariate Analysis"
      ],
      "id": "21965167"
    },
    {
      "cell_type": "code",
      "execution_count": null,
      "metadata": {
        "id": "8b855494",
        "outputId": "21b4fab8-7f26-4346-c97c-34fed680ccbf",
        "colab": {
          "base_uri": "https://localhost:8080/"
        }
      },
      "outputs": [
        {
          "output_type": "display_data",
          "data": {
            "text/plain": [
              "<Figure size 432x288 with 1 Axes>"
            ],
            "image/png": "[encoded data removed]"
          },
          "metadata": {}
        }
      ],
      "source": [
        "values=data['LABEL'].value_counts()\n",
        "data.LABEL.value_counts().plot(kind='pie', startangle = 90,autopct= lambda x: '{:.0f}'.format(x*values.sum()/100));"
      ],
      "id": "8b855494"
    },
    {
      "cell_type": "code",
      "execution_count": null,
      "metadata": {
        "id": "b2e6d03c",
        "outputId": "d22af276-b6fc-4808-9893-02d344cc73d8",
        "colab": {
          "base_uri": "https://localhost:8080/"
        }
      },
      "outputs": [
        {
          "output_type": "display_data",
          "data": {
            "text/plain": [
              "<Figure size 432x288 with 1 Axes>"
            ],
            "image/png": "[encoded data removed]"
          },
          "metadata": {
            "needs_background": "light"
          }
        }
      ],
      "source": [
        "data.RATING.value_counts().plot(kind='bar')\n",
        "plt.xlabel('Ratings')\n",
        "plt.ylabel('Count');"
      ],
      "id": "b2e6d03c"
    },
    {
      "cell_type": "code",
      "execution_count": null,
      "metadata": {
        "id": "878d1a34"
      },
      "outputs": [],
      "source": [
        "def addlabels(x,y):\n",
        "    for i in range(len(x)):\n",
        "        plt.text(i,y[i],y[i])"
      ],
      "id": "878d1a34"
    },
    {
      "cell_type": "code",
      "execution_count": null,
      "metadata": {
        "id": "673dc41f",
        "outputId": "da4a8347-6b86-460a-a2dc-44018e67b6df",
        "colab": {
          "base_uri": "https://localhost:8080/"
        }
      },
      "outputs": [
        {
          "output_type": "display_data",
          "data": {
            "text/plain": [
              "<Figure size 432x288 with 1 Axes>"
            ],
            "image/png": "[encoded data removed]"
          },
          "metadata": {
            "needs_background": "light"
          }
        }
      ],
      "source": [
        "data['VERIFIED_PURCHASE'].value_counts().plot(kind='bar',)\n",
        "plt.xlabel('Verified Purchase')\n",
        "plt.ylabel('Count');"
      ],
      "id": "673dc41f"
    },
    {
      "cell_type": "code",
      "execution_count": null,
      "metadata": {
        "id": "a5107ee9",
        "outputId": "dcba6238-c0f0-404d-8ac6-e94f680618c2",
        "colab": {
          "base_uri": "https://localhost:8080/"
        }
      },
      "outputs": [
        {
          "output_type": "display_data",
          "data": {
            "text/plain": [
              "<Figure size 720x1080 with 1 Axes>"
            ],
            "image/png": "[encoded data removed]"
          },
          "metadata": {}
        }
      ],
      "source": [
        "plt.figure(figsize=(10,15))\n",
        "data.PRODUCT_CATEGORY.value_counts().plot(kind = 'pie', fontsize = 8.5)\n",
        "plt.ylabel(' ');"
      ],
      "id": "a5107ee9"
    },
    {
      "cell_type": "markdown",
      "metadata": {
        "id": "55b8e3a3"
      },
      "source": [
        "##### Inference\n",
        "All the categories have equal number of reviews"
      ],
      "id": "55b8e3a3"
    },
    {
      "cell_type": "markdown",
      "metadata": {
        "id": "c9b43f3f"
      },
      "source": [
        "#### Bi-variate analysis"
      ],
      "id": "c9b43f3f"
    },
    {
      "cell_type": "code",
      "execution_count": null,
      "metadata": {
        "id": "2a806b50",
        "outputId": "3d543ab6-4de1-4b30-b578-369dbdce6b23",
        "colab": {
          "base_uri": "https://localhost:8080/"
        }
      },
      "outputs": [
        {
          "output_type": "display_data",
          "data": {
            "text/plain": [
              "<Figure size 432x288 with 1 Axes>"
            ],
            "image/png": "[encoded data removed]"
          },
          "metadata": {
            "needs_background": "light"
          }
        }
      ],
      "source": [
        "sns.countplot(x='LABEL', hue='VERIFIED_PURCHASE', data=data)\n",
        "plt.title('Label Vs Verified Purchase');"
      ],
      "id": "2a806b50"
    },
    {
      "cell_type": "markdown",
      "metadata": {
        "id": "c3b5ecaa"
      },
      "source": [
        "##### Inference:\n",
        "Most fake reviews are from customers who have not purchased the product on the website"
      ],
      "id": "c3b5ecaa"
    },
    {
      "cell_type": "code",
      "execution_count": null,
      "metadata": {
        "id": "e734403e",
        "outputId": "eb102a67-e881-4204-df39-ce4c2786de7d",
        "colab": {
          "base_uri": "https://localhost:8080/"
        }
      },
      "outputs": [
        {
          "output_type": "display_data",
          "data": {
            "text/plain": [
              "<Figure size 432x288 with 1 Axes>"
            ],
            "image/png": "[encoded data removed]"
          },
          "metadata": {
            "needs_background": "light"
          }
        }
      ],
      "source": [
        "sns.countplot(x='LABEL', hue='RATING', data=data);"
      ],
      "id": "e734403e"
    },
    {
      "cell_type": "markdown",
      "metadata": {
        "id": "196f8511"
      },
      "source": [
        "##### Inference:\n",
        "- Ratings are divided equally for both the labels\n",
        "- Both fake and real reviews have high/positive ratings"
      ],
      "id": "196f8511"
    },
    {
      "cell_type": "code",
      "execution_count": null,
      "metadata": {
        "id": "1273eaeb",
        "outputId": "00531939-e4b9-4071-9033-1ea1c35ffa89",
        "colab": {
          "base_uri": "https://localhost:8080/"
        }
      },
      "outputs": [
        {
          "output_type": "display_data",
          "data": {
            "text/plain": [
              "<Figure size 1800x1080 with 1 Axes>"
            ],
            "image/png": "[encoded data removed]"
          },
          "metadata": {
            "needs_background": "light"
          }
        }
      ],
      "source": [
        "plt.figure(figsize=(25,15))\n",
        "sns.countplot(x='LABEL', hue='PRODUCT_CATEGORY', data=data);"
      ],
      "id": "1273eaeb"
    },
    {
      "cell_type": "markdown",
      "metadata": {
        "id": "20f76970"
      },
      "source": [
        "##### Inference\n",
        "Equal number of product reviews for both the labels"
      ],
      "id": "20f76970"
    },
    {
      "cell_type": "markdown",
      "metadata": {
        "id": "2e37fd18"
      },
      "source": [
        "## Analysis"
      ],
      "id": "2e37fd18"
    },
    {
      "cell_type": "markdown",
      "metadata": {
        "id": "fc234d9c"
      },
      "source": [
        "#####  1. Visualising the sentiment of both fake and real reviews using TextBlob"
      ],
      "id": "fc234d9c"
    },
    {
      "cell_type": "code",
      "execution_count": null,
      "metadata": {
        "id": "f233ce63"
      },
      "outputs": [],
      "source": [
        "from textblob import TextBlob\n",
        "data['sentiment_score'] = data['REVIEW_TEXT'].apply(lambda x: TextBlob(x).sentiment.polarity)"
      ],
      "id": "f233ce63"
    },
    {
      "cell_type": "code",
      "execution_count": null,
      "metadata": {
        "id": "88606eab"
      },
      "outputs": [],
      "source": [
        "def label_column(x):\n",
        "    if x == 0:\n",
        "        return 'Neutral'\n",
        "    elif x < 0:\n",
        "        return 'Negative'\n",
        "    else:\n",
        "        return 'Positive'"
      ],
      "id": "88606eab"
    },
    {
      "cell_type": "code",
      "execution_count": null,
      "metadata": {
        "id": "25fb4395",
        "outputId": "23d4db5e-e781-473a-9a7c-d8cad09332c2",
        "colab": {
          "base_uri": "https://localhost:8080/"
        }
      },
      "outputs": [
        {
          "output_type": "execute_result",
          "data": {
            "text/plain": [
              "   LABEL  RATING VERIFIED_PURCHASE PRODUCT_CATEGORY  \\\n",
              "0      1       4                 N               PC   \n",
              "1      1       4                 Y         Wireless   \n",
              "2      1       3                 N             Baby   \n",
              "3      1       4                 N  Office Products   \n",
              "4      1       4                 N           Beauty   \n",
              "\n",
              "                                       PRODUCT_TITLE  \\\n",
              "0        Targus PAUK10U Ultra Mini USB Keypad, Black   \n",
              "1  Note 3 Battery : Stalion Strength Replacement ...   \n",
              "2       Fisher-Price Papasan Cradle Swing, Starlight   \n",
              "3  Casio MS-80B Standard Function Desktop Calculator   \n",
              "4  Shine Whitening - Zero Peroxide Teeth Whitenin...   \n",
              "\n",
              "               REVIEW_TITLE  \\\n",
              "0                    useful   \n",
              "1     New era for batteries   \n",
              "2  doesn't swing very well.   \n",
              "3          Great computing!   \n",
              "4     Only use twice a week   \n",
              "\n",
              "                                         REVIEW_TEXT  sentiment_score  \\\n",
              "0  When least you think so, this product will sav...        -0.300000   \n",
              "1  Lithium batteries are something new introduced...         0.219226   \n",
              "2  I purchased this swing for my baby. She is 6 m...         0.347143   \n",
              "3  I was looking for an inexpensive desk calcolat...        -0.088542   \n",
              "4  I only use it twice a week and the results are...         0.145833   \n",
              "\n",
              "  sentiment_label  \n",
              "0        Negative  \n",
              "1        Positive  \n",
              "2        Positive  \n",
              "3        Negative  \n",
              "4        Positive  "
            ],
            "text/html": [
              "\n",
              "  <div id=\"df-445dc212-b1b0-4173-98b5-9946776c872f\">\n",
              "    <div class=\"colab-df-container\">\n",
              "      <div>\n",
              "<style scoped>\n",
              "    .dataframe tbody tr th:only-of-type {\n",
              "        vertical-align: middle;\n",
              "    }\n",
              "\n",
              "    .dataframe tbody tr th {\n",
              "        vertical-align: top;\n",
              "    }\n",
              "\n",
              "    .dataframe thead th {\n",
              "        text-align: right;\n",
              "    }\n",
              "</style>\n",
              "<table border=\"1\" class=\"dataframe\">\n",
              "  <thead>\n",
              "    <tr style=\"text-align: right;\">\n",
              "      <th></th>\n",
              "      <th>LABEL</th>\n",
              "      <th>RATING</th>\n",
              "      <th>VERIFIED_PURCHASE</th>\n",
              "      <th>PRODUCT_CATEGORY</th>\n",
              "      <th>PRODUCT_TITLE</th>\n",
              "      <th>REVIEW_TITLE</th>\n",
              "      <th>REVIEW_TEXT</th>\n",
              "      <th>sentiment_score</th>\n",
              "      <th>sentiment_label</th>\n",
              "    </tr>\n",
              "  </thead>\n",
              "  <tbody>\n",
              "    <tr>\n",
              "      <th>0</th>\n",
              "      <td>1</td>\n",
              "      <td>4</td>\n",
              "      <td>N</td>\n",
              "      <td>PC</td>\n",
              "      <td>Targus PAUK10U Ultra Mini USB Keypad, Black</td>\n",
              "      <td>useful</td>\n",
              "      <td>When least you think so, this product will sav...</td>\n",
              "      <td>-0.300000</td>\n",
              "      <td>Negative</td>\n",
              "    </tr>\n",
              "    <tr>\n",
              "      <th>1</th>\n",
              "      <td>1</td>\n",
              "      <td>4</td>\n",
              "      <td>Y</td>\n",
              "      <td>Wireless</td>\n",
              "      <td>Note 3 Battery : Stalion Strength Replacement ...</td>\n",
              "      <td>New era for batteries</td>\n",
              "      <td>Lithium batteries are something new introduced...</td>\n",
              "      <td>0.219226</td>\n",
              "      <td>Positive</td>\n",
              "    </tr>\n",
              "    <tr>\n",
              "      <th>2</th>\n",
              "      <td>1</td>\n",
              "      <td>3</td>\n",
              "      <td>N</td>\n",
              "      <td>Baby</td>\n",
              "      <td>Fisher-Price Papasan Cradle Swing, Starlight</td>\n",
              "      <td>doesn't swing very well.</td>\n",
              "      <td>I purchased this swing for my baby. She is 6 m...</td>\n",
              "      <td>0.347143</td>\n",
              "      <td>Positive</td>\n",
              "    </tr>\n",
              "    <tr>\n",
              "      <th>3</th>\n",
              "      <td>1</td>\n",
              "      <td>4</td>\n",
              "      <td>N</td>\n",
              "      <td>Office Products</td>\n",
              "      <td>Casio MS-80B Standard Function Desktop Calculator</td>\n",
              "      <td>Great computing!</td>\n",
              "      <td>I was looking for an inexpensive desk calcolat...</td>\n",
              "      <td>-0.088542</td>\n",
              "      <td>Negative</td>\n",
              "    </tr>\n",
              "    <tr>\n",
              "      <th>4</th>\n",
              "      <td>1</td>\n",
              "      <td>4</td>\n",
              "      <td>N</td>\n",
              "      <td>Beauty</td>\n",
              "      <td>Shine Whitening - Zero Peroxide Teeth Whitenin...</td>\n",
              "      <td>Only use twice a week</td>\n",
              "      <td>I only use it twice a week and the results are...</td>\n",
              "      <td>0.145833</td>\n",
              "      <td>Positive</td>\n",
              "    </tr>\n",
              "  </tbody>\n",
              "</table>\n",
              "</div>\n",
              "      <button class=\"colab-df-convert\" onclick=\"convertToInteractive('df-445dc212-b1b0-4173-98b5-9946776c872f')\"\n",
              "              title=\"Convert this dataframe to an interactive table.\"\n",
              "              style=\"display:none;\">\n",
              "        \n",
              "  <svg xmlns=\"http://www.w3.org/2000/svg\" height=\"24px\"viewBox=\"0 0 24 24\"\n",
              "       width=\"24px\">\n",
              "    <path d=\"M0 0h24v24H0V0z\" fill=\"none\"/>\n",
              "    <path d=\"M18.56 5.44l.94 2.06.94-2.06 2.06-.94-2.06-.94-.94-2.06-.94 2.06-2.06.94zm-11 1L8.5 8.5l.94-2.06 2.06-.94-2.06-.94L8.5 2.5l-.94 2.06-2.06.94zm10 10l.94 2.06.94-2.06 2.06-.94-2.06-.94-.94-2.06-.94 2.06-2.06.94z\"/><path d=\"M17.41 7.96l-1.37-1.37c-.4-.4-.92-.59-1.43-.59-.52 0-1.04.2-1.43.59L10.3 9.45l-7.72 7.72c-.78.78-.78 2.05 0 2.83L4 21.41c.39.39.9.59 1.41.59.51 0 1.02-.2 1.41-.59l7.78-7.78 2.81-2.81c.8-.78.8-2.07 0-2.86zM5.41 20L4 18.59l7.72-7.72 1.47 1.35L5.41 20z\"/>\n",
              "  </svg>\n",
              "      </button>\n",
              "      \n",
              "  <style>\n",
              "    .colab-df-container {\n",
              "      display:flex;\n",
              "      flex-wrap:wrap;\n",
              "      gap: 12px;\n",
              "    }\n",
              "\n",
              "    .colab-df-convert {\n",
              "      background-color: #E8F0FE;\n",
              "      border: none;\n",
              "      border-radius: 50%;\n",
              "      cursor: pointer;\n",
              "      display: none;\n",
              "      fill: #1967D2;\n",
              "      height: 32px;\n",
              "      padding: 0 0 0 0;\n",
              "      width: 32px;\n",
              "    }\n",
              "\n",
              "    .colab-df-convert:hover {\n",
              "      background-color: #E2EBFA;\n",
              "      box-shadow: 0px 1px 2px rgba(60, 64, 67, 0.3), 0px 1px 3px 1px rgba(60, 64, 67, 0.15);\n",
              "      fill: #174EA6;\n",
              "    }\n",
              "\n",
              "    [theme=dark] .colab-df-convert {\n",
              "      background-color: #3B4455;\n",
              "      fill: #D2E3FC;\n",
              "    }\n",
              "\n",
              "    [theme=dark] .colab-df-convert:hover {\n",
              "      background-color: #434B5C;\n",
              "      box-shadow: 0px 1px 3px 1px rgba(0, 0, 0, 0.15);\n",
              "      filter: drop-shadow(0px 1px 2px rgba(0, 0, 0, 0.3));\n",
              "      fill: #FFFFFF;\n",
              "    }\n",
              "  </style>\n",
              "\n",
              "      <script>\n",
              "        const buttonEl =\n",
              "          document.querySelector('#df-445dc212-b1b0-4173-98b5-9946776c872f button.colab-df-convert');\n",
              "        buttonEl.style.display =\n",
              "          google.colab.kernel.accessAllowed ? 'block' : 'none';\n",
              "\n",
              "        async function convertToInteractive(key) {\n",
              "          const element = document.querySelector('#df-445dc212-b1b0-4173-98b5-9946776c872f');\n",
              "          const dataTable =\n",
              "            await google.colab.kernel.invokeFunction('convertToInteractive',\n",
              "                                                     [key], {});\n",
              "          if (!dataTable) return;\n",
              "\n",
              "          const docLinkHtml = 'Like what you see? Visit the ' +\n",
              "            '<a target=\"_blank\" href=https://colab.research.google.com/notebooks/data_table.ipynb>data table notebook</a>'\n",
              "            + ' to learn more about interactive tables.';\n",
              "          element.innerHTML = '';\n",
              "          dataTable['output_type'] = 'display_data';\n",
              "          await google.colab.output.renderOutput(dataTable, element);\n",
              "          const docLink = document.createElement('div');\n",
              "          docLink.innerHTML = docLinkHtml;\n",
              "          element.appendChild(docLink);\n",
              "        }\n",
              "      </script>\n",
              "    </div>\n",
              "  </div>\n",
              "  "
            ]
          },
          "metadata": {},
          "execution_count": 25
        }
      ],
      "source": [
        "data['sentiment_label']=data['sentiment_score'].apply(lambda x:label_column(x))\n",
        "data.head()"
      ],
      "id": "25fb4395"
    },
    {
      "cell_type": "code",
      "execution_count": null,
      "metadata": {
        "id": "2dfa2acf",
        "outputId": "75a51550-975e-4117-cc3f-16d5af1bd9fc",
        "colab": {
          "base_uri": "https://localhost:8080/"
        }
      },
      "outputs": [
        {
          "output_type": "display_data",
          "data": {
            "text/plain": [
              "<Figure size 720x360 with 1 Axes>"
            ],
            "image/png": "[encoded data removed]"
          },
          "metadata": {
            "needs_background": "light"
          }
        }
      ],
      "source": [
        "plt.figure(figsize=(10,5))\n",
        "sns.countplot(x='sentiment_label', hue='LABEL', data=data)\n",
        "plt.title('Sentiment Vs Label');"
      ],
      "id": "2dfa2acf"
    },
    {
      "cell_type": "markdown",
      "metadata": {
        "id": "61ffbd53"
      },
      "source": [
        "##### Inference:\n",
        "Most fake reviews have higher positive and negative sentiment indicating the reviewers either wrote very good things about a product or gave negative feedbacks"
      ],
      "id": "61ffbd53"
    },
    {
      "cell_type": "code",
      "execution_count": null,
      "metadata": {
        "id": "04b97eec",
        "outputId": "cd8e4ef0-e31d-4493-bc78-2d656f8ceda3",
        "colab": {
          "base_uri": "https://localhost:8080/"
        }
      },
      "outputs": [
        {
          "output_type": "display_data",
          "data": {
            "text/plain": [
              "<Figure size 720x360 with 1 Axes>"
            ],
            "image/png": "[encoded data removed]"
          },
          "metadata": {
            "needs_background": "light"
          }
        }
      ],
      "source": [
        "plt.figure(figsize=(10,5))\n",
        "sns.countplot(x='sentiment_label', hue='VERIFIED_PURCHASE', data=data);"
      ],
      "id": "04b97eec"
    },
    {
      "cell_type": "markdown",
      "metadata": {
        "id": "c7e48ce7"
      },
      "source": [
        "##### Inference:\n",
        "Customers who have purchased the product have mostly have positive sentiment score"
      ],
      "id": "c7e48ce7"
    },
    {
      "cell_type": "code",
      "execution_count": null,
      "metadata": {
        "id": "19444dd5",
        "outputId": "cac5ffe6-0923-4b47-f893-9760fdb95175",
        "colab": {
          "base_uri": "https://localhost:8080/"
        }
      },
      "outputs": [
        {
          "output_type": "display_data",
          "data": {
            "text/plain": [
              "<Figure size 720x360 with 1 Axes>"
            ],
            "image/png": "[encoded data removed]"
          },
          "metadata": {
            "needs_background": "light"
          }
        }
      ],
      "source": [
        "plt.figure(figsize=(10,5))\n",
        "sns.countplot(x='sentiment_label', hue='RATING', data=data);"
      ],
      "id": "19444dd5"
    },
    {
      "cell_type": "markdown",
      "metadata": {
        "id": "8bedc810"
      },
      "source": [
        "##### Inference\n",
        "Positive sentiment has highest rating as 5"
      ],
      "id": "8bedc810"
    },
    {
      "cell_type": "markdown",
      "metadata": {
        "id": "6acc18d7"
      },
      "source": [
        "#####  Checking the length of the reviews\n",
        "- longer/shorter reviews have been verified?"
      ],
      "id": "6acc18d7"
    },
    {
      "cell_type": "code",
      "execution_count": null,
      "metadata": {
        "id": "5acb7412"
      },
      "outputs": [],
      "source": [
        "data['review_length'] = data['REVIEW_TEXT'].map(len)"
      ],
      "id": "5acb7412"
    },
    {
      "cell_type": "code",
      "execution_count": null,
      "metadata": {
        "id": "d3e1d81c",
        "outputId": "c6f62a9c-c222-4966-f02c-0630ee90b356",
        "colab": {
          "base_uri": "https://localhost:8080/"
        }
      },
      "outputs": [
        {
          "output_type": "execute_result",
          "data": {
            "text/plain": [
              "16188"
            ]
          },
          "metadata": {},
          "execution_count": 30
        }
      ],
      "source": [
        "max(data['review_length'])"
      ],
      "id": "d3e1d81c"
    },
    {
      "cell_type": "code",
      "execution_count": null,
      "metadata": {
        "id": "55a8371b",
        "outputId": "c7653b9b-dcec-4378-8868-e7e80be8c005",
        "colab": {
          "base_uri": "https://localhost:8080/"
        }
      },
      "outputs": [
        {
          "output_type": "execute_result",
          "data": {
            "text/plain": [
              "98"
            ]
          },
          "metadata": {},
          "execution_count": 31
        }
      ],
      "source": [
        "min(data['review_length'])"
      ],
      "id": "55a8371b"
    },
    {
      "cell_type": "code",
      "execution_count": null,
      "metadata": {
        "id": "3cc25a4e",
        "outputId": "ce052a9c-0e12-483d-e37f-63a3498eed6c",
        "colab": {
          "base_uri": "https://localhost:8080/",
          "height": 281
        }
      },
      "outputs": [
        {
          "output_type": "display_data",
          "data": {
            "text/plain": [
              "<Figure size 432x288 with 1 Axes>"
            ],
            "image/png": "[encoded data removed]"
          },
          "metadata": {
            "needs_background": "light"
          }
        }
      ],
      "source": [
        "plt.scatter(x = 'review_length', y = 'LABEL', data=data)\n",
        "plt.title('Review length');"
      ],
      "id": "3cc25a4e"
    },
    {
      "cell_type": "markdown",
      "metadata": {
        "id": "6ff6cb05"
      },
      "source": [
        "##### Inference\n",
        "All fake reviews have length less than 8k words"
      ],
      "id": "6ff6cb05"
    },
    {
      "cell_type": "code",
      "execution_count": null,
      "metadata": {
        "id": "a9b62629",
        "outputId": "75870327-6780-4a50-f0a5-ad4fe1c94e67",
        "colab": {
          "base_uri": "https://localhost:8080/"
        }
      },
      "outputs": [
        {
          "output_type": "execute_result",
          "data": {
            "text/plain": [
              "LABEL\n",
              "0    428.064571\n",
              "1    316.538857\n",
              "Name: review_length, dtype: float64"
            ]
          },
          "metadata": {},
          "execution_count": 33
        }
      ],
      "source": [
        "length = data.groupby('LABEL')['review_length'].mean()\n",
        "length.head()"
      ],
      "id": "a9b62629"
    },
    {
      "cell_type": "markdown",
      "metadata": {
        "id": "3b7f0fb2"
      },
      "source": [
        "##### Inference:\n",
        "Fake reviews are shorter in length"
      ],
      "id": "3b7f0fb2"
    },
    {
      "cell_type": "code",
      "execution_count": null,
      "metadata": {
        "id": "f931902d",
        "outputId": "078c33e6-0bc3-4d9a-9678-ce5f30089f85",
        "colab": {
          "base_uri": "https://localhost:8080/",
          "height": 280
        }
      },
      "outputs": [
        {
          "output_type": "display_data",
          "data": {
            "text/plain": [
              "<Figure size 432x288 with 1 Axes>"
            ],
            "image/png": "[encoded data removed]"
          },
          "metadata": {
            "needs_background": "light"
          }
        }
      ],
      "source": [
        "ax = sns.barplot(x=\"VERIFIED_PURCHASE\", y=\"review_length\", hue=\"LABEL\", data=data)"
      ],
      "id": "f931902d"
    },
    {
      "cell_type": "markdown",
      "metadata": {
        "id": "cb81a824"
      },
      "source": [
        "##### Inference:\n",
        "- Fake reviews are shorter in length in both cases in regardless of product being purchased or not\n",
        "- Real reviews which have not been verified has the highest review length"
      ],
      "id": "cb81a824"
    },
    {
      "cell_type": "markdown",
      "metadata": {
        "id": "bf7f03fe"
      },
      "source": [
        "##### Inference:\n",
        "Fake reviews with neutral tone have higher review length.\n",
        "Real reviews have highest positive and negative sentiment\n"
      ],
      "id": "bf7f03fe"
    },
    {
      "cell_type": "code",
      "execution_count": null,
      "metadata": {
        "id": "11696c8e",
        "outputId": "e5d924c3-e898-4e90-cb38-5f0c46eb36d4",
        "colab": {
          "base_uri": "https://localhost:8080/",
          "height": 279
        }
      },
      "outputs": [
        {
          "output_type": "display_data",
          "data": {
            "text/plain": [
              "<Figure size 432x288 with 1 Axes>"
            ],
            "image/png": "[encoded data removed]"
          },
          "metadata": {
            "needs_background": "light"
          }
        }
      ],
      "source": [
        "ax = sns.barplot(x=\"RATING\", y=\"review_length\", hue=\"LABEL\", data=data)"
      ],
      "id": "11696c8e"
    },
    {
      "cell_type": "markdown",
      "source": [
        "## ALBERT"
      ],
      "metadata": {
        "id": "V3rTLkYaPaSA"
      },
      "id": "V3rTLkYaPaSA"
    },
    {
      "cell_type": "code",
      "source": [
        "!pip install transformers "
      ],
      "metadata": {
        "colab": {
          "base_uri": "https://localhost:8080/"
        },
        "id": "K-X_d539JX-_",
        "outputId": "d96b4463-7e23-45b8-e42c-a2cc242da3df"
      },
      "id": "K-X_d539JX-_",
      "execution_count": null,
      "outputs": [
        {
          "output_type": "stream",
          "name": "stdout",
          "text": [
            "Looking in indexes: https://pypi.org/simple, https://us-python.pkg.dev/colab-wheels/public/simple/\n",
            "Collecting transformers\n",
            "  Downloading transformers-4.21.2-py3-none-any.whl (4.7 MB)\n",
            "\u001b[K     |████████████████████████████████| 4.7 MB 7.6 MB/s \n",
            "\u001b[?25hCollecting huggingface-hub<1.0,>=0.1.0\n",
            "  Downloading huggingface_hub-0.9.1-py3-none-any.whl (120 kB)\n",
            "\u001b[K     |████████████████████████████████| 120 kB 93.3 MB/s \n",
            "\u001b[?25hRequirement already satisfied: requests in /usr/local/lib/python3.7/dist-packages (from transformers) (2.23.0)\n",
            "Collecting tokenizers!=0.11.3,<0.13,>=0.11.1\n",
            "  Downloading tokenizers-0.12.1-cp37-cp37m-manylinux_2_12_x86_64.manylinux2010_x86_64.whl (6.6 MB)\n",
            "\u001b[K     |████████████████████████████████| 6.6 MB 68.6 MB/s \n",
            "\u001b[?25hRequirement already satisfied: regex!=2019.12.17 in /usr/local/lib/python3.7/dist-packages (from transformers) (2022.6.2)\n",
            "Requirement already satisfied: pyyaml>=5.1 in /usr/local/lib/python3.7/dist-packages (from transformers) (6.0)\n",
            "Requirement already satisfied: tqdm>=4.27 in /usr/local/lib/python3.7/dist-packages (from transformers) (4.64.0)\n",
            "Requirement already satisfied: numpy>=1.17 in /usr/local/lib/python3.7/dist-packages (from transformers) (1.21.6)\n",
            "Requirement already satisfied: filelock in /usr/local/lib/python3.7/dist-packages (from transformers) (3.8.0)\n",
            "Requirement already satisfied: packaging>=20.0 in /usr/local/lib/python3.7/dist-packages (from transformers) (21.3)\n",
            "Requirement already satisfied: importlib-metadata in /usr/local/lib/python3.7/dist-packages (from transformers) (4.12.0)\n",
            "Requirement already satisfied: typing-extensions>=3.7.4.3 in /usr/local/lib/python3.7/dist-packages (from huggingface-hub<1.0,>=0.1.0->transformers) (4.1.1)\n",
            "Requirement already satisfied: pyparsing!=3.0.5,>=2.0.2 in /usr/local/lib/python3.7/dist-packages (from packaging>=20.0->transformers) (3.0.9)\n",
            "Requirement already satisfied: zipp>=0.5 in /usr/local/lib/python3.7/dist-packages (from importlib-metadata->transformers) (3.8.1)\n",
            "Requirement already satisfied: chardet<4,>=3.0.2 in /usr/local/lib/python3.7/dist-packages (from requests->transformers) (3.0.4)\n",
            "Requirement already satisfied: urllib3!=1.25.0,!=1.25.1,<1.26,>=1.21.1 in /usr/local/lib/python3.7/dist-packages (from requests->transformers) (1.24.3)\n",
            "Requirement already satisfied: idna<3,>=2.5 in /usr/local/lib/python3.7/dist-packages (from requests->transformers) (2.10)\n",
            "Requirement already satisfied: certifi>=2017.4.17 in /usr/local/lib/python3.7/dist-packages (from requests->transformers) (2022.6.15)\n",
            "Installing collected packages: tokenizers, huggingface-hub, transformers\n",
            "Successfully installed huggingface-hub-0.9.1 tokenizers-0.12.1 transformers-4.21.2\n"
          ]
        }
      ]
    },
    {
      "cell_type": "code",
      "source": [
        "data['VERIFIED_PURCHASE'].replace('Y','YES', inplace=True)\n",
        "data['VERIFIED_PURCHASE'].replace('N','NO',inplace=True)\n",
        "\n",
        "def rating(x):\n",
        "    if x == 5:\n",
        "        return 'Very Good'\n",
        "    elif x == 4:\n",
        "        return 'Good'\n",
        "    elif x == 3:\n",
        "        return 'Avg'\n",
        "    elif x == 2:\n",
        "        return 'Poor'\n",
        "    else:\n",
        "        return 'Bad'\n",
        "\n",
        "data['RATING'] = data['RATING'].apply(lambda x:rating(x))\n",
        "\n",
        "data['combined'] = data['REVIEW_TEXT'] + ' ' + data['RATING'] + ' ' + data['VERIFIED_PURCHASE'] + ' ' + data['PRODUCT_CATEGORY']"
      ],
      "metadata": {
        "id": "uhmc33UxBjK6"
      },
      "id": "uhmc33UxBjK6",
      "execution_count": null,
      "outputs": []
    },
    {
      "cell_type": "code",
      "source": [
        "## Train and test split \n",
        "from sklearn.model_selection import train_test_split\n",
        "train_dataset, test_dataset = train_test_split(data, test_size=0.3, shuffle=True, stratify=None, random_state=42)\n",
        "train_dataset = train_dataset.reset_index(drop=True)\n",
        "test_dataset = test_dataset.reset_index(drop=True)"
      ],
      "metadata": {
        "id": "BzfLZxDGmew6"
      },
      "id": "BzfLZxDGmew6",
      "execution_count": null,
      "outputs": []
    },
    {
      "cell_type": "code",
      "source": [
        "train_dataset.shape"
      ],
      "metadata": {
        "colab": {
          "base_uri": "https://localhost:8080/"
        },
        "id": "PUKC7YMum1Ji",
        "outputId": "33dcc62c-1ff2-48ab-88d6-b7f86e18db0d"
      },
      "id": "PUKC7YMum1Ji",
      "execution_count": null,
      "outputs": [
        {
          "output_type": "execute_result",
          "data": {
            "text/plain": [
              "(14700, 11)"
            ]
          },
          "metadata": {},
          "execution_count": 42
        }
      ]
    },
    {
      "cell_type": "code",
      "source": [
        "train_dataset.LABEL.value_counts()"
      ],
      "metadata": {
        "colab": {
          "base_uri": "https://localhost:8080/"
        },
        "id": "tz8cdhL7JK7J",
        "outputId": "7ce8c99f-430a-4fa6-d2e2-cd8eb7d29e70"
      },
      "id": "tz8cdhL7JK7J",
      "execution_count": null,
      "outputs": [
        {
          "output_type": "execute_result",
          "data": {
            "text/plain": [
              "0    7389\n",
              "1    7311\n",
              "Name: LABEL, dtype: int64"
            ]
          },
          "metadata": {},
          "execution_count": 43
        }
      ]
    },
    {
      "cell_type": "code",
      "source": [
        "test_dataset.LABEL.value_counts()"
      ],
      "metadata": {
        "colab": {
          "base_uri": "https://localhost:8080/"
        },
        "id": "ocxxao_Ym5AI",
        "outputId": "b2d14ec1-4647-4b7d-f434-39c558a76cd6"
      },
      "id": "ocxxao_Ym5AI",
      "execution_count": null,
      "outputs": [
        {
          "output_type": "execute_result",
          "data": {
            "text/plain": [
              "1    3189\n",
              "0    3111\n",
              "Name: LABEL, dtype: int64"
            ]
          },
          "metadata": {},
          "execution_count": 44
        }
      ]
    },
    {
      "cell_type": "code",
      "source": [
        "import transformers\n",
        "from transformers import AlbertTokenizer, TFAlbertModel, AlbertConfig, TFAutoModelForSequenceClassification\n",
        "from transformers import AutoTokenizer"
      ],
      "metadata": {
        "id": "QLdTQxaCRt59"
      },
      "id": "QLdTQxaCRt59",
      "execution_count": null,
      "outputs": []
    },
    {
      "cell_type": "code",
      "source": [
        "from tqdm import tqdm"
      ],
      "metadata": {
        "id": "ePGqQKx_Sjvi"
      },
      "id": "ePGqQKx_Sjvi",
      "execution_count": null,
      "outputs": []
    },
    {
      "cell_type": "code",
      "source": [
        "train_dataset.head(2)"
      ],
      "metadata": {
        "colab": {
          "base_uri": "https://localhost:8080/",
          "height": 225
        },
        "id": "JDsTRRFLPjxm",
        "outputId": "6b407e49-7d70-4dc4-a8d6-c8084f6c3bfb"
      },
      "id": "JDsTRRFLPjxm",
      "execution_count": null,
      "outputs": [
        {
          "output_type": "execute_result",
          "data": {
            "text/plain": [
              "   LABEL RATING VERIFIED_PURCHASE PRODUCT_CATEGORY  \\\n",
              "0      0   Good               YES  Lawn and Garden   \n",
              "1      0    Avg               YES               PC   \n",
              "\n",
              "                                       PRODUCT_TITLE  \\\n",
              "0  Grace Alley Nylon American Flag with Embroider...   \n",
              "1  ASUS VivoPC VM62N-G039R (Discontinued by Manuf...   \n",
              "\n",
              "                 REVIEW_TITLE  \\\n",
              "0  Good flag at descent price   \n",
              "1      1 is horrible as usual   \n",
              "\n",
              "                                         REVIEW_TEXT  sentiment_score  \\\n",
              "0  The flag arrived on time,, and appears to be g...         0.700000   \n",
              "1  Bought this to become my new media center PC. ...        -0.028864   \n",
              "\n",
              "  sentiment_label  review_length  \\\n",
              "0        Positive            107   \n",
              "1        Negative            357   \n",
              "\n",
              "                                            combined  \n",
              "0  The flag arrived on time,, and appears to be g...  \n",
              "1  Bought this to become my new media center PC. ...  "
            ],
            "text/html": [
              "\n",
              "  <div id=\"df-020385a8-5981-4803-b814-f306889dbb85\">\n",
              "    <div class=\"colab-df-container\">\n",
              "      <div>\n",
              "<style scoped>\n",
              "    .dataframe tbody tr th:only-of-type {\n",
              "        vertical-align: middle;\n",
              "    }\n",
              "\n",
              "    .dataframe tbody tr th {\n",
              "        vertical-align: top;\n",
              "    }\n",
              "\n",
              "    .dataframe thead th {\n",
              "        text-align: right;\n",
              "    }\n",
              "</style>\n",
              "<table border=\"1\" class=\"dataframe\">\n",
              "  <thead>\n",
              "    <tr style=\"text-align: right;\">\n",
              "      <th></th>\n",
              "      <th>LABEL</th>\n",
              "      <th>RATING</th>\n",
              "      <th>VERIFIED_PURCHASE</th>\n",
              "      <th>PRODUCT_CATEGORY</th>\n",
              "      <th>PRODUCT_TITLE</th>\n",
              "      <th>REVIEW_TITLE</th>\n",
              "      <th>REVIEW_TEXT</th>\n",
              "      <th>sentiment_score</th>\n",
              "      <th>sentiment_label</th>\n",
              "      <th>review_length</th>\n",
              "      <th>combined</th>\n",
              "    </tr>\n",
              "  </thead>\n",
              "  <tbody>\n",
              "    <tr>\n",
              "      <th>0</th>\n",
              "      <td>0</td>\n",
              "      <td>Good</td>\n",
              "      <td>YES</td>\n",
              "      <td>Lawn and Garden</td>\n",
              "      <td>Grace Alley Nylon American Flag with Embroider...</td>\n",
              "      <td>Good flag at descent price</td>\n",
              "      <td>The flag arrived on time,, and appears to be g...</td>\n",
              "      <td>0.700000</td>\n",
              "      <td>Positive</td>\n",
              "      <td>107</td>\n",
              "      <td>The flag arrived on time,, and appears to be g...</td>\n",
              "    </tr>\n",
              "    <tr>\n",
              "      <th>1</th>\n",
              "      <td>0</td>\n",
              "      <td>Avg</td>\n",
              "      <td>YES</td>\n",
              "      <td>PC</td>\n",
              "      <td>ASUS VivoPC VM62N-G039R (Discontinued by Manuf...</td>\n",
              "      <td>1 is horrible as usual</td>\n",
              "      <td>Bought this to become my new media center PC. ...</td>\n",
              "      <td>-0.028864</td>\n",
              "      <td>Negative</td>\n",
              "      <td>357</td>\n",
              "      <td>Bought this to become my new media center PC. ...</td>\n",
              "    </tr>\n",
              "  </tbody>\n",
              "</table>\n",
              "</div>\n",
              "      <button class=\"colab-df-convert\" onclick=\"convertToInteractive('df-020385a8-5981-4803-b814-f306889dbb85')\"\n",
              "              title=\"Convert this dataframe to an interactive table.\"\n",
              "              style=\"display:none;\">\n",
              "        \n",
              "  <svg xmlns=\"http://www.w3.org/2000/svg\" height=\"24px\"viewBox=\"0 0 24 24\"\n",
              "       width=\"24px\">\n",
              "    <path d=\"M0 0h24v24H0V0z\" fill=\"none\"/>\n",
              "    <path d=\"M18.56 5.44l.94 2.06.94-2.06 2.06-.94-2.06-.94-.94-2.06-.94 2.06-2.06.94zm-11 1L8.5 8.5l.94-2.06 2.06-.94-2.06-.94L8.5 2.5l-.94 2.06-2.06.94zm10 10l.94 2.06.94-2.06 2.06-.94-2.06-.94-.94-2.06-.94 2.06-2.06.94z\"/><path d=\"M17.41 7.96l-1.37-1.37c-.4-.4-.92-.59-1.43-.59-.52 0-1.04.2-1.43.59L10.3 9.45l-7.72 7.72c-.78.78-.78 2.05 0 2.83L4 21.41c.39.39.9.59 1.41.59.51 0 1.02-.2 1.41-.59l7.78-7.78 2.81-2.81c.8-.78.8-2.07 0-2.86zM5.41 20L4 18.59l7.72-7.72 1.47 1.35L5.41 20z\"/>\n",
              "  </svg>\n",
              "      </button>\n",
              "      \n",
              "  <style>\n",
              "    .colab-df-container {\n",
              "      display:flex;\n",
              "      flex-wrap:wrap;\n",
              "      gap: 12px;\n",
              "    }\n",
              "\n",
              "    .colab-df-convert {\n",
              "      background-color: #E8F0FE;\n",
              "      border: none;\n",
              "      border-radius: 50%;\n",
              "      cursor: pointer;\n",
              "      display: none;\n",
              "      fill: #1967D2;\n",
              "      height: 32px;\n",
              "      padding: 0 0 0 0;\n",
              "      width: 32px;\n",
              "    }\n",
              "\n",
              "    .colab-df-convert:hover {\n",
              "      background-color: #E2EBFA;\n",
              "      box-shadow: 0px 1px 2px rgba(60, 64, 67, 0.3), 0px 1px 3px 1px rgba(60, 64, 67, 0.15);\n",
              "      fill: #174EA6;\n",
              "    }\n",
              "\n",
              "    [theme=dark] .colab-df-convert {\n",
              "      background-color: #3B4455;\n",
              "      fill: #D2E3FC;\n",
              "    }\n",
              "\n",
              "    [theme=dark] .colab-df-convert:hover {\n",
              "      background-color: #434B5C;\n",
              "      box-shadow: 0px 1px 3px 1px rgba(0, 0, 0, 0.15);\n",
              "      filter: drop-shadow(0px 1px 2px rgba(0, 0, 0, 0.3));\n",
              "      fill: #FFFFFF;\n",
              "    }\n",
              "  </style>\n",
              "\n",
              "      <script>\n",
              "        const buttonEl =\n",
              "          document.querySelector('#df-020385a8-5981-4803-b814-f306889dbb85 button.colab-df-convert');\n",
              "        buttonEl.style.display =\n",
              "          google.colab.kernel.accessAllowed ? 'block' : 'none';\n",
              "\n",
              "        async function convertToInteractive(key) {\n",
              "          const element = document.querySelector('#df-020385a8-5981-4803-b814-f306889dbb85');\n",
              "          const dataTable =\n",
              "            await google.colab.kernel.invokeFunction('convertToInteractive',\n",
              "                                                     [key], {});\n",
              "          if (!dataTable) return;\n",
              "\n",
              "          const docLinkHtml = 'Like what you see? Visit the ' +\n",
              "            '<a target=\"_blank\" href=https://colab.research.google.com/notebooks/data_table.ipynb>data table notebook</a>'\n",
              "            + ' to learn more about interactive tables.';\n",
              "          element.innerHTML = '';\n",
              "          dataTable['output_type'] = 'display_data';\n",
              "          await google.colab.output.renderOutput(dataTable, element);\n",
              "          const docLink = document.createElement('div');\n",
              "          docLink.innerHTML = docLinkHtml;\n",
              "          element.appendChild(docLink);\n",
              "        }\n",
              "      </script>\n",
              "    </div>\n",
              "  </div>\n",
              "  "
            ]
          },
          "metadata": {},
          "execution_count": 49
        }
      ]
    },
    {
      "cell_type": "code",
      "source": [
        "train_dataset['combined'][1]"
      ],
      "metadata": {
        "colab": {
          "base_uri": "https://localhost:8080/",
          "height": 70
        },
        "id": "YJKEmrzNCzHC",
        "outputId": "4a5b40e4-5116-40c9-b214-d932dbc84f13"
      },
      "id": "YJKEmrzNCzHC",
      "execution_count": null,
      "outputs": [
        {
          "output_type": "execute_result",
          "data": {
            "text/plain": [
              "\"Bought this to become my new media center PC. Windows 8.1 is horrible as usual. Installed XBMC and VLC to try and play the videos I have. The memory in the original unit is just isn't enough. Spent another $100 of RAM and finally can play the videos from my NAS smoothly. The unit is pretty looking and passes the wife requirement to sit in the living room. Avg YES PC\""
            ],
            "application/vnd.google.colaboratory.intrinsic+json": {
              "type": "string"
            }
          },
          "metadata": {},
          "execution_count": 50
        }
      ]
    },
    {
      "cell_type": "code",
      "source": [
        "from sklearn.preprocessing import LabelEncoder\n",
        "le = LabelEncoder()\n",
        "train_dataset['LABEL'] = le.fit_transform(train_dataset['LABEL'])"
      ],
      "metadata": {
        "id": "iA9l9Aa92aSf"
      },
      "id": "iA9l9Aa92aSf",
      "execution_count": null,
      "outputs": []
    },
    {
      "cell_type": "code",
      "source": [
        "train_dataset.LABEL.value_counts()"
      ],
      "metadata": {
        "colab": {
          "base_uri": "https://localhost:8080/"
        },
        "id": "zV41xx3FJu6c",
        "outputId": "bfbbd8db-50f2-4a43-c282-d84ef15b7e4c"
      },
      "id": "zV41xx3FJu6c",
      "execution_count": null,
      "outputs": [
        {
          "output_type": "execute_result",
          "data": {
            "text/plain": [
              "0    7389\n",
              "1    7311\n",
              "Name: LABEL, dtype: int64"
            ]
          },
          "metadata": {},
          "execution_count": 52
        }
      ]
    },
    {
      "cell_type": "code",
      "source": [
        "X1 = train_dataset['combined']\n",
        "y = train_dataset['LABEL']"
      ],
      "metadata": {
        "id": "QJR9eZFKRJOK"
      },
      "id": "QJR9eZFKRJOK",
      "execution_count": null,
      "outputs": []
    },
    {
      "cell_type": "code",
      "source": [
        "from sklearn.model_selection import train_test_split\n",
        "X_train,X_val,y_train,y_val = train_test_split(X1,y, test_size=0.3, shuffle=True, stratify=None, random_state=42)"
      ],
      "metadata": {
        "id": "kUXrj_lkPY6x"
      },
      "id": "kUXrj_lkPY6x",
      "execution_count": null,
      "outputs": []
    },
    {
      "cell_type": "code",
      "source": [
        "X_train.shape, y_train.shape"
      ],
      "metadata": {
        "colab": {
          "base_uri": "https://localhost:8080/"
        },
        "id": "2E8oMia2P2aN",
        "outputId": "90a1d5a2-e4ef-41eb-cf58-155d0bf7627f"
      },
      "id": "2E8oMia2P2aN",
      "execution_count": null,
      "outputs": [
        {
          "output_type": "execute_result",
          "data": {
            "text/plain": [
              "((10290,), (10290,))"
            ]
          },
          "metadata": {},
          "execution_count": 56
        }
      ]
    },
    {
      "cell_type": "code",
      "source": [
        "X_val.shape, y_val.shape"
      ],
      "metadata": {
        "colab": {
          "base_uri": "https://localhost:8080/"
        },
        "id": "6I32SxuPP2Wy",
        "outputId": "6594141d-25dd-4aaa-92b0-b9d59f7972c4"
      },
      "id": "6I32SxuPP2Wy",
      "execution_count": null,
      "outputs": [
        {
          "output_type": "execute_result",
          "data": {
            "text/plain": [
              "((4410,), (4410,))"
            ]
          },
          "metadata": {},
          "execution_count": 57
        }
      ]
    },
    {
      "cell_type": "code",
      "source": [
        "#!pip install sentencepiece"
      ],
      "metadata": {
        "id": "VVWK9nn9S7B9"
      },
      "id": "VVWK9nn9S7B9",
      "execution_count": null,
      "outputs": []
    },
    {
      "cell_type": "code",
      "source": [
        "MODEL_NAME = \"albert-base-v2\"\n",
        "# albert-large-v2, albert-xlarge-v2, albert-xxlarge-v2\n",
        "tokenizer = AutoTokenizer.from_pretrained(MODEL_NAME)\n",
        "#tokenizer = transformers.AlbertTokenizer.from_pretrained(MODEL_NAME)"
      ],
      "metadata": {
        "id": "jzUMI5HpP2UU",
        "colab": {
          "base_uri": "https://localhost:8080/",
          "height": 113,
          "referenced_widgets": [
            "39e6543c4b794ae1981653b01a638440",
            "0898cf34cd6e426ebc39c432c2fd82c0",
            "f0fa8852a5a24397a8b1db27b738cae4",
            "09986d0f609742e58985c7584e05e7b3",
            "6ce9132cd4cc47e591769b963014ab9e",
            "920446b0300f4fe99c2bb0041fc8607c",
            "b20c3867e0ed4ae9889a184d7a08baad",
            "9d15b2707ed245b6bf5216bf1403a5ed",
            "293d4b232bb44bfcb25262723e26362e",
            "ec3ed9013fd24b26ac524b2a171dac8f",
            "f973dd477a6e4f90b7771ff5eeb5f66e",
            "972b657947994a5ca6af4d4f7b5b89a5",
            "3407ab1348464fe29c4a8f99982d2fa2",
            "b500251af6f6451ab46ac43f66db71f8",
            "e7c087392d194b8c917f94120a7c8587",
            "9977a4983d684879b07464a1e928322a",
            "4a1453b82af2420da8797c488f43b4c5",
            "cd28aa4a1f8d4d359c2788b8a993621a",
            "dd2692162d9a4507bf288e1286298955",
            "a785492c557a418399f8da10a6b76aab",
            "8ed4520169174ac5b2a0d4945900fdbb",
            "40e01a8452ab43c9a9aea2cb4cdb8b4e",
            "dd6000764fe54127bf169313a3a3ed24",
            "1210f86ef0624ea491f3ed9dbe395649",
            "be85585c5092449988bf37b6b3c337ca",
            "d4786ac4a9d6451da89bb7f2f27aa378",
            "f974bd9d4b47431ebc48715b7b7146f0",
            "69a5ece318a940dc91a38db026588448",
            "c2dc15200d0042c39bdc2673f6f9a1fd",
            "5da4893fe03142f3ae9bf6fb5f0ad6fb",
            "beb82fae059a45aeaec902cb69841b16",
            "bc5f553f6bff4457aa0cf1761b57bc59",
            "4e4a26dcc60947c7a891b735430b68d3"
          ]
        },
        "outputId": "7d8bae79-8d7d-415b-ecd7-e8a9a7e67a04"
      },
      "id": "jzUMI5HpP2UU",
      "execution_count": null,
      "outputs": [
        {
          "output_type": "display_data",
          "data": {
            "text/plain": [
              "Downloading config.json:   0%|          | 0.00/684 [00:00<?, ?B/s]"
            ],
            "application/vnd.jupyter.widget-view+json": {
              "version_major": 2,
              "version_minor": 0,
              "model_id": "39e6543c4b794ae1981653b01a638440"
            }
          },
          "metadata": {}
        },
        {
          "output_type": "display_data",
          "data": {
            "text/plain": [
              "Downloading spiece.model:   0%|          | 0.00/742k [00:00<?, ?B/s]"
            ],
            "application/vnd.jupyter.widget-view+json": {
              "version_major": 2,
              "version_minor": 0,
              "model_id": "972b657947994a5ca6af4d4f7b5b89a5"
            }
          },
          "metadata": {}
        },
        {
          "output_type": "display_data",
          "data": {
            "text/plain": [
              "Downloading tokenizer.json:   0%|          | 0.00/1.25M [00:00<?, ?B/s]"
            ],
            "application/vnd.jupyter.widget-view+json": {
              "version_major": 2,
              "version_minor": 0,
              "model_id": "dd6000764fe54127bf169313a3a3ed24"
            }
          },
          "metadata": {}
        }
      ]
    },
    {
      "cell_type": "code",
      "source": [
        "max_val = 0\n",
        "for sent in (X_train.tolist() + X_train.tolist() + X_val.tolist()):\n",
        "    try:\n",
        "        sent_tok_len = len(tokenizer.tokenize(sent))\n",
        "        max_val = sent_tok_len if (sent_tok_len > max_val) else max_val\n",
        "    except:\n",
        "        pass\n",
        "    \n",
        "print(f\"The maximum amount of tokens in the dataset is {max_val}\")"
      ],
      "metadata": {
        "colab": {
          "base_uri": "https://localhost:8080/"
        },
        "id": "2-f0XGbqP2SY",
        "outputId": "03e96a0f-bac3-48dd-fdab-c569ed7d526d"
      },
      "id": "2-f0XGbqP2SY",
      "execution_count": null,
      "outputs": [
        {
          "output_type": "stream",
          "name": "stderr",
          "text": [
            "Token indices sequence length is longer than the specified maximum sequence length for this model (646 > 512). Running this sequence through the model will result in indexing errors\n"
          ]
        },
        {
          "output_type": "stream",
          "name": "stdout",
          "text": [
            "The maximum amount of tokens in the dataset is 3774\n"
          ]
        }
      ]
    },
    {
      "cell_type": "code",
      "source": [
        "MAX_LENGTH = 512\n",
        "\n",
        "tokenizer = AutoTokenizer.from_pretrained(MODEL_NAME,  \n",
        "                                                add_special_tokens=True,\n",
        "                                                max_length=MAX_LENGTH, \n",
        "                                                pad_to_max_length=True)\n",
        "\n",
        "def tokenize(sentences, tokenizer):\n",
        "    input_ids, input_masks, input_segments = [], [], []\n",
        "    for sentence in tqdm(sentences):\n",
        "        inputs = tokenizer.encode_plus(sentence, \n",
        "                                       add_special_tokens=True, \n",
        "                                       max_length=MAX_LENGTH, \n",
        "                                       pad_to_max_length=True, \n",
        "                                       return_attention_mask=True, \n",
        "                                       return_token_type_ids=True, \n",
        "                                       truncation=True)\n",
        "        input_ids.append(inputs['input_ids'])\n",
        "        input_masks.append(inputs['attention_mask'])\n",
        "        input_segments.append(inputs['token_type_ids'])        \n",
        "        \n",
        "    return np.asarray(input_ids, dtype='int32'), np.asarray(input_masks, dtype='int32')"
      ],
      "metadata": {
        "id": "M9x9UOnNRx-o"
      },
      "id": "M9x9UOnNRx-o",
      "execution_count": null,
      "outputs": []
    },
    {
      "cell_type": "code",
      "source": [
        "X_train_token = tokenize(X_train, tokenizer)\n",
        "X_val_token = tokenize(X_val, tokenizer)"
      ],
      "metadata": {
        "colab": {
          "base_uri": "https://localhost:8080/"
        },
        "id": "HuJ6FPeURx7P",
        "outputId": "a80ba144-221d-4e04-e779-44133094c95a"
      },
      "id": "HuJ6FPeURx7P",
      "execution_count": null,
      "outputs": [
        {
          "output_type": "stream",
          "name": "stderr",
          "text": [
            "100%|██████████| 10290/10290 [00:04<00:00, 2480.00it/s]\n",
            "100%|██████████| 4410/4410 [00:01<00:00, 2671.89it/s]\n"
          ]
        }
      ]
    },
    {
      "cell_type": "code",
      "source": [
        "X_train_token"
      ],
      "metadata": {
        "colab": {
          "base_uri": "https://localhost:8080/"
        },
        "id": "N1jA6BN3aU4A",
        "outputId": "cf9e6d88-09b5-4ca3-dccb-856480e1af89"
      },
      "id": "N1jA6BN3aU4A",
      "execution_count": null,
      "outputs": [
        {
          "output_type": "execute_result",
          "data": {
            "text/plain": [
              "(array([[    2,    48,  7533, ...,     0,     0,     0],\n",
              "        [    2,    48,  2146, ...,     0,     0,     0],\n",
              "        [    2,   158,    50, ...,     0,     0,     0],\n",
              "        ...,\n",
              "        [    2,    51,  5606, ...,     0,     0,     0],\n",
              "        [    2, 18774,   279, ...,     0,     0,     0],\n",
              "        [    2,    32,    22, ...,     0,     0,     0]], dtype=int32),\n",
              " array([[1, 1, 1, ..., 0, 0, 0],\n",
              "        [1, 1, 1, ..., 0, 0, 0],\n",
              "        [1, 1, 1, ..., 0, 0, 0],\n",
              "        ...,\n",
              "        [1, 1, 1, ..., 0, 0, 0],\n",
              "        [1, 1, 1, ..., 0, 0, 0],\n",
              "        [1, 1, 1, ..., 0, 0, 0]], dtype=int32))"
            ]
          },
          "metadata": {},
          "execution_count": 62
        }
      ]
    },
    {
      "cell_type": "code",
      "source": [
        "index_num = 10\n",
        "\n",
        "print(train_dataset.loc[index_num]['LABEL'], '\\n')\n",
        "\n",
        "print(X_train[index_num], '\\n')\n",
        "\n",
        "temp_tokens = tokenizer.tokenize(X_train[index_num])\n",
        "temp_ids = tokenizer.encode(X_train[index_num])\n",
        "\n",
        "print('ID\\'s', 'Input Tokens', sep='\\t')\n",
        "for i in range(len(temp_ids)):\n",
        "    if i == 0:\n",
        "        print(temp_ids[i], '[CLS]', sep='\\t')\n",
        "        continue\n",
        "    if i == len(temp_ids)-1:\n",
        "        print(temp_ids[i], '[SEP]', sep='\\t')\n",
        "        break\n",
        "    print(temp_ids[i], temp_tokens[i-1], sep='\\t')"
      ],
      "metadata": {
        "colab": {
          "base_uri": "https://localhost:8080/"
        },
        "id": "8gGSWmOjRx4X",
        "outputId": "eceb368a-3fab-4096-b77d-b4e39b20bf00"
      },
      "id": "8gGSWmOjRx4X",
      "execution_count": null,
      "outputs": [
        {
          "output_type": "stream",
          "name": "stdout",
          "text": [
            "0 \n",
            "\n",
            "These are pretty standard lights...they work...they haven't spontaneously exploded or anything. I purchased them to turn into flower lights (they haven't caught on fire either which is also a plus) and they've been affixed to my wall for the past two years. They still work, but I don't turn them on all that often. Very Good YES Lawn and Garden \n",
            "\n",
            "ID's\tInput Tokens\n",
            "2\t[CLS]\n",
            "158\t▁these\n",
            "50\t▁are\n",
            "1772\t▁pretty\n",
            "1236\t▁standard\n",
            "3411\t▁lights\n",
            "9\t.\n",
            "9\t.\n",
            "9\t.\n",
            "2077\tthey\n",
            "170\t▁work\n",
            "9\t.\n",
            "9\t.\n",
            "9\t.\n",
            "2077\tthey\n",
            "2933\t▁haven\n",
            "22\t'\n",
            "38\tt\n",
            "27602\t▁spontaneously\n",
            "10426\t▁exploded\n",
            "54\t▁or\n",
            "602\t▁anything\n",
            "9\t.\n",
            "31\t▁i\n",
            "2432\t▁purchased\n",
            "105\t▁them\n",
            "20\t▁to\n",
            "805\t▁turn\n",
            "77\t▁into\n",
            "5383\t▁flower\n",
            "3411\t▁lights\n",
            "13\t▁\n",
            "5\t(\n",
            "2077\tthey\n",
            "2933\t▁haven\n",
            "22\t'\n",
            "38\tt\n",
            "1383\t▁caught\n",
            "27\t▁on\n",
            "535\t▁fire\n",
            "694\t▁either\n",
            "56\t▁which\n",
            "25\t▁is\n",
            "67\t▁also\n",
            "21\t▁a\n",
            "3123\t▁plus\n",
            "6\t)\n",
            "17\t▁and\n",
            "59\t▁they\n",
            "22\t'\n",
            "195\tve\n",
            "74\t▁been\n",
            "26568\t▁affix\n",
            "69\ted\n",
            "20\t▁to\n",
            "51\t▁my\n",
            "769\t▁wall\n",
            "26\t▁for\n",
            "14\t▁the\n",
            "640\t▁past\n",
            "81\t▁two\n",
            "122\t▁years\n",
            "9\t.\n",
            "59\t▁they\n",
            "174\t▁still\n",
            "170\t▁work\n",
            "15\t,\n",
            "47\t▁but\n",
            "31\t▁i\n",
            "221\t▁don\n",
            "22\t'\n",
            "38\tt\n",
            "805\t▁turn\n",
            "105\t▁them\n",
            "27\t▁on\n",
            "65\t▁all\n",
            "30\t▁that\n",
            "478\t▁often\n",
            "9\t.\n",
            "253\t▁very\n",
            "254\t▁good\n",
            "1643\t▁yes\n",
            "9413\t▁lawn\n",
            "17\t▁and\n",
            "1986\t▁garden\n",
            "3\t[SEP]\n"
          ]
        }
      ]
    },
    {
      "cell_type": "code",
      "source": [
        "### Model creation\n",
        "\n",
        "config = AlbertConfig.from_pretrained(MODEL_NAME, output_hidden_states=True, output_attentions=True)\n",
        "ALBERT =  TFAlbertModel.from_pretrained(MODEL_NAME, config=config)\n",
        "#TFAutoModelForSequenceClassification\n",
        "\n",
        "input_ids_in = tf.keras.layers.Input(shape=(MAX_LENGTH,), name='input_token', dtype='int32')\n",
        "input_masks_in = tf.keras.layers.Input(shape=(MAX_LENGTH,), name='masked_token', dtype='int32') \n",
        "\n",
        "embedding_layer = ALBERT(input_ids = input_ids_in, attention_mask = input_masks_in)[0]\n",
        "X = tf.keras.layers.Bidirectional(tf.keras.layers.LSTM(512, return_sequences=True))(embedding_layer)\n",
        "X = tf.keras.layers.GlobalMaxPool1D()(X)\n",
        "X = tf.keras.layers.Dense(128, activation='relu')(X)\n",
        "X = tf.keras.layers.Dropout(0.1)(X)\n",
        "X = tf.keras.layers.Dense(2, activation='sigmoid')(X)\n",
        "\n",
        "model = tf.keras.Model(inputs=[input_ids_in, input_masks_in], outputs = X)\n",
        "\n",
        "for layer in model.layers[:3]:\n",
        "    layer.trainable = False\n",
        "\n",
        "model.summary()"
      ],
      "metadata": {
        "colab": {
          "base_uri": "https://localhost:8080/",
          "height": 1000,
          "referenced_widgets": [
            "8135be93a41b42758d16ae34de760437",
            "27553babbbf44b738f5323cf5de86938",
            "e72bf6b9ca6e4452a2a3e9b06a497ad3",
            "749a568a1629426a8725634bc134517e",
            "3a7e6e8def184a3f818af53a2916b8b6",
            "4f12ff9bb20747ecbc9bb5ebde73593d",
            "9342d340648b49ea9a8b79683a3b4d7b",
            "a4f6cc02b3a6485cabc2dc2a9c88f78b",
            "1f457b38f20b403194e54daeae267fe1",
            "c7c0efd1d2e74c40a5a81756301848fa",
            "e4e42f4eeba1420a93b6e8dd9cb9a116"
          ]
        },
        "id": "xUovfsXzRx2F",
        "outputId": "84aaedc6-620a-495f-ab72-624f6a98e14e"
      },
      "id": "xUovfsXzRx2F",
      "execution_count": null,
      "outputs": [
        {
          "output_type": "display_data",
          "data": {
            "text/plain": [
              "Downloading tf_model.h5:   0%|          | 0.00/60.1M [00:00<?, ?B/s]"
            ],
            "application/vnd.jupyter.widget-view+json": {
              "version_major": 2,
              "version_minor": 0,
              "model_id": "8135be93a41b42758d16ae34de760437"
            }
          },
          "metadata": {}
        },
        {
          "output_type": "stream",
          "name": "stderr",
          "text": [
            "Some layers from the model checkpoint at albert-base-v2 were not used when initializing TFAlbertModel: ['predictions']\n",
            "- This IS expected if you are initializing TFAlbertModel from the checkpoint of a model trained on another task or with another architecture (e.g. initializing a BertForSequenceClassification model from a BertForPreTraining model).\n",
            "- This IS NOT expected if you are initializing TFAlbertModel from the checkpoint of a model that you expect to be exactly identical (initializing a BertForSequenceClassification model from a BertForSequenceClassification model).\n",
            "All the layers of TFAlbertModel were initialized from the model checkpoint at albert-base-v2.\n",
            "If your task is similar to the task the model of the checkpoint was trained on, you can already use TFAlbertModel for predictions without further training.\n"
          ]
        },
        {
          "output_type": "stream",
          "name": "stdout",
          "text": [
            "Model: \"model\"\n",
            "__________________________________________________________________________________________________\n",
            " Layer (type)                   Output Shape         Param #     Connected to                     \n",
            "==================================================================================================\n",
            " input_token (InputLayer)       [(None, 512)]        0           []                               \n",
            "                                                                                                  \n",
            " masked_token (InputLayer)      [(None, 512)]        0           []                               \n",
            "                                                                                                  \n",
            " tf_albert_model (TFAlbertModel  TFBaseModelOutputWi  11683584   ['input_token[0][0]',            \n",
            " )                              thPooling(last_hidd               'masked_token[0][0]']           \n",
            "                                en_state=(None, 512                                               \n",
            "                                , 768),                                                           \n",
            "                                 pooler_output=(Non                                               \n",
            "                                e, 768),                                                          \n",
            "                                 hidden_states=((No                                               \n",
            "                                ne, 512, 768),                                                    \n",
            "                                 (None, 512, 768),                                                \n",
            "                                 (None, 512, 768),                                                \n",
            "                                 (None, 512, 768),                                                \n",
            "                                 (None, 512, 768),                                                \n",
            "                                 (None, 512, 768),                                                \n",
            "                                 (None, 512, 768),                                                \n",
            "                                 (None, 512, 768),                                                \n",
            "                                 (None, 512, 768),                                                \n",
            "                                 (None, 512, 768),                                                \n",
            "                                 (None, 512, 768),                                                \n",
            "                                 (None, 512, 768),                                                \n",
            "                                 (None, 512, 768)),                                               \n",
            "                                 attentions=((None,                                               \n",
            "                                 12, None, 512),                                                  \n",
            "                                 (None, 12, None, 5                                               \n",
            "                                12),                                                              \n",
            "                                 (None, 12, None, 5                                               \n",
            "                                12),                                                              \n",
            "                                 (None, 12, None, 5                                               \n",
            "                                12),                                                              \n",
            "                                 (None, 12, None, 5                                               \n",
            "                                12),                                                              \n",
            "                                 (None, 12, None, 5                                               \n",
            "                                12),                                                              \n",
            "                                 (None, 12, None, 5                                               \n",
            "                                12),                                                              \n",
            "                                 (None, 12, None, 5                                               \n",
            "                                12),                                                              \n",
            "                                 (None, 12, None, 5                                               \n",
            "                                12),                                                              \n",
            "                                 (None, 12, None, 5                                               \n",
            "                                12),                                                              \n",
            "                                 (None, 12, None, 5                                               \n",
            "                                12),                                                              \n",
            "                                 (None, 12, None, 5                                               \n",
            "                                12)))                                                             \n",
            "                                                                                                  \n",
            " bidirectional (Bidirectional)  (None, 512, 1024)    5246976     ['tf_albert_model[0][25]']       \n",
            "                                                                                                  \n",
            " global_max_pooling1d (GlobalMa  (None, 1024)        0           ['bidirectional[0][0]']          \n",
            " xPooling1D)                                                                                      \n",
            "                                                                                                  \n",
            " dense (Dense)                  (None, 128)          131200      ['global_max_pooling1d[0][0]']   \n",
            "                                                                                                  \n",
            " dropout_4 (Dropout)            (None, 128)          0           ['dense[0][0]']                  \n",
            "                                                                                                  \n",
            " dense_1 (Dense)                (None, 2)            258         ['dropout_4[0][0]']              \n",
            "                                                                                                  \n",
            "==================================================================================================\n",
            "Total params: 17,062,018\n",
            "Trainable params: 5,378,434\n",
            "Non-trainable params: 11,683,584\n",
            "__________________________________________________________________________________________________\n"
          ]
        }
      ]
    },
    {
      "cell_type": "code",
      "source": [
        "### Create an output directory\n",
        "import os\n",
        "output_dir = './model1_outputs_albert'\n",
        "if not os.path.exists(output_dir): ### If the file directory doesn't already exists,\n",
        "    os.makedirs(output_dir) ### Make it please"
      ],
      "metadata": {
        "id": "AfvuH8XJTlsU"
      },
      "id": "AfvuH8XJTlsU",
      "execution_count": null,
      "outputs": []
    },
    {
      "cell_type": "code",
      "source": [
        "from tensorflow.keras.callbacks import ModelCheckpoint, ReduceLROnPlateau, EarlyStopping\n",
        "model_checkpoint = ModelCheckpoint(filepath=output_dir+'/weights.{epoch:02d}.hdf5',\n",
        "                                  save_weights_only=True)\n",
        "\n",
        "early_stopping = EarlyStopping(patience=3, # Stop after 3 epochs of no improvement\n",
        "                               monitor='val_loss', # Look at validation_loss\n",
        "                               min_delta=0, # After 0 change\n",
        "                               mode='min', # Stop when quantity has stopped decreasing\n",
        "                               restore_best_weights=False, # Don't Restore the best weights\n",
        "                               verbose=1) \n",
        "\n",
        "reduce_lr = ReduceLROnPlateau(monitor='val_loss', # Look at validation loss\n",
        "                              min_lr=0.00001, # Lower bound of learning rate\n",
        "                              patience=1, # Reduce after 1 with little change\n",
        "                              mode='min', # Stop when quantity has stopped decreasing\n",
        "                              factor=0.1, # Reduce by a factor of 1/10\n",
        "                              min_delta=0.01, # Minimumn change needed\n",
        "                              verbose=1)"
      ],
      "metadata": {
        "id": "6saBBa0xTlp8"
      },
      "id": "6saBBa0xTlp8",
      "execution_count": null,
      "outputs": []
    },
    {
      "cell_type": "code",
      "source": [
        "#print(X_train_token.shape)\n",
        "print(y_train.shape)\n",
        "#print(X_test_token.shape)\n",
        "print(y_val.shape)"
      ],
      "metadata": {
        "colab": {
          "base_uri": "https://localhost:8080/"
        },
        "id": "9cYIQBl_UlOT",
        "outputId": "578f6995-8afc-43a5-9cfb-05df3e36a087"
      },
      "id": "9cYIQBl_UlOT",
      "execution_count": null,
      "outputs": [
        {
          "output_type": "stream",
          "name": "stdout",
          "text": [
            "(10290,)\n",
            "(4410,)\n"
          ]
        }
      ]
    },
    {
      "cell_type": "code",
      "source": [
        "y_train"
      ],
      "metadata": {
        "colab": {
          "base_uri": "https://localhost:8080/"
        },
        "id": "mC32qS5P0CVi",
        "outputId": "ea14e568-fc78-4b0d-def2-48e7ff5f34af"
      },
      "id": "mC32qS5P0CVi",
      "execution_count": null,
      "outputs": [
        {
          "output_type": "execute_result",
          "data": {
            "text/plain": [
              "567      0\n",
              "7053     1\n",
              "4785     1\n",
              "2245     0\n",
              "4165     0\n",
              "        ..\n",
              "5191     1\n",
              "13418    1\n",
              "5390     1\n",
              "860      1\n",
              "7270     1\n",
              "Name: LABEL, Length: 10290, dtype: int64"
            ]
          },
          "metadata": {},
          "execution_count": 68
        }
      ]
    },
    {
      "cell_type": "code",
      "source": [
        "from tensorflow.keras.utils import to_categorical\n",
        "y_train = to_categorical(y_train)\n",
        "y_val = to_categorical(y_val)"
      ],
      "metadata": {
        "id": "vLM_VGP8zwWJ"
      },
      "id": "vLM_VGP8zwWJ",
      "execution_count": null,
      "outputs": []
    },
    {
      "cell_type": "code",
      "source": [
        "y_train"
      ],
      "metadata": {
        "colab": {
          "base_uri": "https://localhost:8080/"
        },
        "id": "Rw28mCcz0Igd",
        "outputId": "56b6fcbf-bfbe-4fc5-e0b3-2a7dc1b2a566"
      },
      "id": "Rw28mCcz0Igd",
      "execution_count": null,
      "outputs": [
        {
          "output_type": "execute_result",
          "data": {
            "text/plain": [
              "array([[1., 0.],\n",
              "       [0., 1.],\n",
              "       [0., 1.],\n",
              "       ...,\n",
              "       [0., 1.],\n",
              "       [0., 1.],\n",
              "       [0., 1.]], dtype=float32)"
            ]
          },
          "metadata": {},
          "execution_count": 70
        }
      ]
    },
    {
      "cell_type": "code",
      "source": [
        "model.compile(loss='binary_crossentropy', optimizer= 'Adam', metrics=['accuracy'])\n",
        "\n",
        "history = model.fit(X_train_token, \n",
        "                    y_train, \n",
        "                    epochs = 10,\n",
        "                    batch_size=32, \n",
        "                    validation_data=(X_val_token, y_val), \n",
        "                    callbacks=[model_checkpoint, early_stopping, reduce_lr])"
      ],
      "metadata": {
        "colab": {
          "base_uri": "https://localhost:8080/"
        },
        "id": "KjQaC4odTlnW",
        "outputId": "06f41ce2-d892-40f1-ad25-677ac2ed4f8d"
      },
      "id": "KjQaC4odTlnW",
      "execution_count": null,
      "outputs": [
        {
          "output_type": "stream",
          "name": "stdout",
          "text": [
            "Epoch 1/10\n",
            "322/322 [==============================] - 443s 1s/step - loss: 0.5375 - accuracy: 0.7401 - val_loss: 0.4314 - val_accuracy: 0.8145 - lr: 0.0010\n",
            "Epoch 2/10\n",
            "322/322 [==============================] - 424s 1s/step - loss: 0.4253 - accuracy: 0.8205 - val_loss: 0.4130 - val_accuracy: 0.8236 - lr: 0.0010\n",
            "Epoch 3/10\n",
            "322/322 [==============================] - ETA: 0s - loss: 0.3836 - accuracy: 0.8385\n",
            "Epoch 3: ReduceLROnPlateau reducing learning rate to 0.00010000000474974513.\n",
            "322/322 [==============================] - 424s 1s/step - loss: 0.3836 - accuracy: 0.8385 - val_loss: 0.4161 - val_accuracy: 0.8265 - lr: 0.0010\n",
            "Epoch 4/10\n",
            "322/322 [==============================] - ETA: 0s - loss: 0.3037 - accuracy: 0.8828\n",
            "Epoch 4: ReduceLROnPlateau reducing learning rate to 1.0000000474974514e-05.\n",
            "322/322 [==============================] - 424s 1s/step - loss: 0.3037 - accuracy: 0.8828 - val_loss: 0.4043 - val_accuracy: 0.8336 - lr: 1.0000e-04\n",
            "Epoch 5/10\n",
            "322/322 [==============================] - 424s 1s/step - loss: 0.2612 - accuracy: 0.9019 - val_loss: 0.4003 - val_accuracy: 0.8365 - lr: 1.0000e-05\n",
            "Epoch 6/10\n",
            "322/322 [==============================] - ETA: 0s - loss: 0.2565 - accuracy: 0.9037\n",
            "Epoch 6: ReduceLROnPlateau reducing learning rate to 1e-05.\n",
            "322/322 [==============================] - 424s 1s/step - loss: 0.2565 - accuracy: 0.9037 - val_loss: 0.4006 - val_accuracy: 0.8367 - lr: 1.0000e-05\n",
            "Epoch 7/10\n",
            "322/322 [==============================] - 424s 1s/step - loss: 0.2520 - accuracy: 0.9057 - val_loss: 0.4010 - val_accuracy: 0.8372 - lr: 1.0000e-05\n",
            "Epoch 8/10\n",
            "322/322 [==============================] - 424s 1s/step - loss: 0.2460 - accuracy: 0.9090 - val_loss: 0.4023 - val_accuracy: 0.8333 - lr: 1.0000e-05\n",
            "Epoch 8: early stopping\n"
          ]
        }
      ]
    },
    {
      "cell_type": "code",
      "source": [
        "#plotting the training Accuracy and Loss\n",
        "def plot_history(history):\n",
        "    acc = history.history['accuracy']\n",
        "    val_acc = history.history['val_accuracy']\n",
        "    loss = history.history['loss']\n",
        "    val_loss = history.history['val_loss']\n",
        "    x = range(1, len(acc) + 1)\n",
        "\n",
        "    plt.figure(figsize=(12, 5))\n",
        "    plt.subplot(1, 2, 1)\n",
        "    plt.plot(x, acc, 'b', label='Training acc')\n",
        "    plt.plot(x, val_acc, 'r', label='Validation acc')\n",
        "    plt.title('Training and validation accuracy')\n",
        "    plt.legend()\n",
        "    plt.subplot(1, 2, 2)\n",
        "    plt.plot(x, loss, 'b', label='Training loss')\n",
        "    plt.plot(x, val_loss, 'r', label='Validation loss')\n",
        "    plt.title('Training and validation loss')\n",
        "    plt.legend()\n",
        "    print(\"Lowest Validation Loss: epoch {}\".format(np.argmin(val_loss)+1))\n",
        "    print(\"Highest Validation Accuracy: epoch {}\".format(np.argmax(val_acc)+1))\n",
        "\n",
        "plot_history(history)"
      ],
      "metadata": {
        "colab": {
          "base_uri": "https://localhost:8080/",
          "height": 371
        },
        "id": "ANm2BDCiTlkk",
        "outputId": "edf2675e-033f-44fe-eb2f-039167a88c7e"
      },
      "id": "ANm2BDCiTlkk",
      "execution_count": null,
      "outputs": [
        {
          "output_type": "stream",
          "name": "stdout",
          "text": [
            "Lowest Validation Loss: epoch 5\n",
            "Highest Validation Accuracy: epoch 7\n"
          ]
        },
        {
          "output_type": "display_data",
          "data": {
            "text/plain": [
              "<Figure size 864x360 with 2 Axes>"
            ],
            "image/png": "[encoded data removed]"
          },
          "metadata": {
            "needs_background": "light"
          }
        }
      ]
    },
    {
      "cell_type": "code",
      "source": [
        "def get_max_val_acc_epoch(history):\n",
        "    return \"0\"+str(np.argmax(history.history['val_accuracy'])+1)"
      ],
      "metadata": {
        "id": "yZQRmys0uxrr"
      },
      "id": "yZQRmys0uxrr",
      "execution_count": null,
      "outputs": []
    },
    {
      "cell_type": "code",
      "source": [
        "epoch_num = get_max_val_acc_epoch(history)\n",
        "model.load_weights(output_dir+\"/weights.\"+epoch_num+\".hdf5\") # Load in model weights"
      ],
      "metadata": {
        "id": "rZe9hqfRTliG"
      },
      "id": "rZe9hqfRTliG",
      "execution_count": null,
      "outputs": []
    },
    {
      "cell_type": "code",
      "source": [
        "test_dataset.shape"
      ],
      "metadata": {
        "colab": {
          "base_uri": "https://localhost:8080/"
        },
        "id": "aPWvpMnx3zFZ",
        "outputId": "f58982a2-5872-42b2-cbe0-b7560ab53b2f"
      },
      "id": "aPWvpMnx3zFZ",
      "execution_count": null,
      "outputs": [
        {
          "output_type": "execute_result",
          "data": {
            "text/plain": [
              "(6300, 11)"
            ]
          },
          "metadata": {},
          "execution_count": 75
        }
      ]
    },
    {
      "cell_type": "code",
      "source": [
        "X_test = test_dataset['combined']"
      ],
      "metadata": {
        "id": "gm_cfVmYu4aW"
      },
      "id": "gm_cfVmYu4aW",
      "execution_count": null,
      "outputs": []
    },
    {
      "cell_type": "code",
      "source": [
        "test_dataset['LABEL'] = le.fit_transform(test_dataset['LABEL'])"
      ],
      "metadata": {
        "id": "g9RCstTcviCo"
      },
      "id": "g9RCstTcviCo",
      "execution_count": null,
      "outputs": []
    },
    {
      "cell_type": "code",
      "source": [
        "y_test = test_dataset['LABEL']"
      ],
      "metadata": {
        "id": "YcqYGFvgv0kB"
      },
      "id": "YcqYGFvgv0kB",
      "execution_count": null,
      "outputs": []
    },
    {
      "cell_type": "code",
      "source": [
        "y_test.value_counts()"
      ],
      "metadata": {
        "colab": {
          "base_uri": "https://localhost:8080/"
        },
        "id": "qpK5VpYVwg15",
        "outputId": "e313dd44-fd40-4239-ad9e-c772837e0000"
      },
      "id": "qpK5VpYVwg15",
      "execution_count": null,
      "outputs": [
        {
          "output_type": "execute_result",
          "data": {
            "text/plain": [
              "1    3189\n",
              "0    3111\n",
              "Name: LABEL, dtype: int64"
            ]
          },
          "metadata": {},
          "execution_count": 79
        }
      ]
    },
    {
      "cell_type": "code",
      "source": [
        "y_test = to_categorical(np.asarray(y_test))"
      ],
      "metadata": {
        "id": "NmuOy10Ez7IN"
      },
      "id": "NmuOy10Ez7IN",
      "execution_count": null,
      "outputs": []
    },
    {
      "cell_type": "code",
      "source": [
        "X_test_token = tokenize(X_test, tokenizer)"
      ],
      "metadata": {
        "colab": {
          "base_uri": "https://localhost:8080/"
        },
        "id": "Om6Kg2ngvGXN",
        "outputId": "b97c7f6a-372c-48ed-8298-40d0ca8774ca"
      },
      "id": "Om6Kg2ngvGXN",
      "execution_count": null,
      "outputs": [
        {
          "output_type": "stream",
          "name": "stderr",
          "text": [
            "100%|██████████| 6300/6300 [00:02<00:00, 2164.81it/s]\n"
          ]
        }
      ]
    },
    {
      "cell_type": "code",
      "source": [
        "pred = model.predict(X_test_token)"
      ],
      "metadata": {
        "id": "FL3mnMqrTsF-"
      },
      "id": "FL3mnMqrTsF-",
      "execution_count": null,
      "outputs": []
    },
    {
      "cell_type": "code",
      "source": [
        "print(\"ROC-AUC Score\", roc_auc_score(y_test,np.round(abs(pred))))\n",
        "print(\"Classification Report:\\n\", classification_report(y_test, np.round(abs(pred)), target_names = [\"real\", \"fake\"]))\n",
        "print('Confusion matrix:\\n',confusion_matrix(y_true = y_test.argmax(axis=1), y_pred = pred.argmax(axis=1)))\n",
        "print(\"ALBERT Accuracy: \",accuracy_score(y_test,  np.round(abs(pred))))"
      ],
      "metadata": {
        "colab": {
          "base_uri": "https://localhost:8080/"
        },
        "id": "U6UOpo1JTsCd",
        "outputId": "30f215d1-b2f2-472d-e7a6-eb03e32b165f"
      },
      "id": "U6UOpo1JTsCd",
      "execution_count": null,
      "outputs": [
        {
          "output_type": "stream",
          "name": "stdout",
          "text": [
            "ROC-AUC Score 0.8317761785404444\n",
            "Classification Report:\n",
            "               precision    recall  f1-score   support\n",
            "\n",
            "        real       0.81      0.86      0.83      3111\n",
            "        fake       0.86      0.80      0.83      3189\n",
            "\n",
            "   micro avg       0.83      0.83      0.83      6300\n",
            "   macro avg       0.83      0.83      0.83      6300\n",
            "weighted avg       0.83      0.83      0.83      6300\n",
            " samples avg       0.83      0.83      0.83      6300\n",
            "\n",
            "Confusion matrix:\n",
            " [[2676  435]\n",
            " [ 628 2561]]\n",
            "ALBERT Accuracy:  0.8276190476190476\n"
          ]
        }
      ]
    },
    {
      "cell_type": "code",
      "source": [],
      "metadata": {
        "id": "hnXdaJ_2hVX6"
      },
      "id": "hnXdaJ_2hVX6",
      "execution_count": null,
      "outputs": []
    }
  ],
  "metadata": {
    "kernelspec": {
      "display_name": "Python 3 (ipykernel)",
      "language": "python",
      "name": "python3"
    },
    "language_info": {
      "codemirror_mode": {
        "name": "ipython",
        "version": 3
      },
      "file_extension": ".py",
      "mimetype": "text/x-python",
      "name": "python",
      "nbconvert_exporter": "python",
      "pygments_lexer": "ipython3",
      "version": "3.9.7"
    },
    "colab": {
      "name": "ALBERT Experiments- Fake review detection.ipynb",
      "provenance": [],
      "collapsed_sections": [
        "c9b43f3f",
        "fc234d9c"
      ],
      "machine_shape": "hm"
    },
    "accelerator": "GPU",
    "gpuClass": "standard",
    "widgets": {
      "application/vnd.jupyter.widget-state+json": {
        "39e6543c4b794ae1981653b01a638440": {
          "model_module": "@jupyter-widgets/controls",
          "model_name": "HBoxModel",
          "model_module_version": "1.5.0",
          "state": {
            "_dom_classes": [],
            "_model_module": "@jupyter-widgets/controls",
            "_model_module_version": "1.5.0",
            "_model_name": "HBoxModel",
            "_view_count": null,
            "_view_module": "@jupyter-widgets/controls",
            "_view_module_version": "1.5.0",
            "_view_name": "HBoxView",
            "box_style": "",
            "children": [
              "IPY_MODEL_0898cf34cd6e426ebc39c432c2fd82c0",
              "IPY_MODEL_f0fa8852a5a24397a8b1db27b738cae4",
              "IPY_MODEL_09986d0f609742e58985c7584e05e7b3"
            ],
            "layout": "IPY_MODEL_6ce9132cd4cc47e591769b963014ab9e"
          }
        },
        "0898cf34cd6e426ebc39c432c2fd82c0": {
          "model_module": "@jupyter-widgets/controls",
          "model_name": "HTMLModel",
          "model_module_version": "1.5.0",
          "state": {
            "_dom_classes": [],
            "_model_module": "@jupyter-widgets/controls",
            "_model_module_version": "1.5.0",
            "_model_name": "HTMLModel",
            "_view_count": null,
            "_view_module": "@jupyter-widgets/controls",
            "_view_module_version": "1.5.0",
            "_view_name": "HTMLView",
            "description": "",
            "description_tooltip": null,
            "layout": "IPY_MODEL_920446b0300f4fe99c2bb0041fc8607c",
            "placeholder": "​",
            "style": "IPY_MODEL_b20c3867e0ed4ae9889a184d7a08baad",
            "value": "Downloading config.json: 100%"
          }
        },
        "f0fa8852a5a24397a8b1db27b738cae4": {
          "model_module": "@jupyter-widgets/controls",
          "model_name": "FloatProgressModel",
          "model_module_version": "1.5.0",
          "state": {
            "_dom_classes": [],
            "_model_module": "@jupyter-widgets/controls",
            "_model_module_version": "1.5.0",
            "_model_name": "FloatProgressModel",
            "_view_count": null,
            "_view_module": "@jupyter-widgets/controls",
            "_view_module_version": "1.5.0",
            "_view_name": "ProgressView",
            "bar_style": "success",
            "description": "",
            "description_tooltip": null,
            "layout": "IPY_MODEL_9d15b2707ed245b6bf5216bf1403a5ed",
            "max": 684,
            "min": 0,
            "orientation": "horizontal",
            "style": "IPY_MODEL_293d4b232bb44bfcb25262723e26362e",
            "value": 684
          }
        },
        "09986d0f609742e58985c7584e05e7b3": {
          "model_module": "@jupyter-widgets/controls",
          "model_name": "HTMLModel",
          "model_module_version": "1.5.0",
          "state": {
            "_dom_classes": [],
            "_model_module": "@jupyter-widgets/controls",
            "_model_module_version": "1.5.0",
            "_model_name": "HTMLModel",
            "_view_count": null,
            "_view_module": "@jupyter-widgets/controls",
            "_view_module_version": "1.5.0",
            "_view_name": "HTMLView",
            "description": "",
            "description_tooltip": null,
            "layout": "IPY_MODEL_ec3ed9013fd24b26ac524b2a171dac8f",
            "placeholder": "​",
            "style": "IPY_MODEL_f973dd477a6e4f90b7771ff5eeb5f66e",
            "value": " 684/684 [00:00&lt;00:00, 21.4kB/s]"
          }
        },
        "6ce9132cd4cc47e591769b963014ab9e": {
          "model_module": "@jupyter-widgets/base",
          "model_name": "LayoutModel",
          "model_module_version": "1.2.0",
          "state": {
            "_model_module": "@jupyter-widgets/base",
            "_model_module_version": "1.2.0",
            "_model_name": "LayoutModel",
            "_view_count": null,
            "_view_module": "@jupyter-widgets/base",
            "_view_module_version": "1.2.0",
            "_view_name": "LayoutView",
            "align_content": null,
            "align_items": null,
            "align_self": null,
            "border": null,
            "bottom": null,
            "display": null,
            "flex": null,
            "flex_flow": null,
            "grid_area": null,
            "grid_auto_columns": null,
            "grid_auto_flow": null,
            "grid_auto_rows": null,
            "grid_column": null,
            "grid_gap": null,
            "grid_row": null,
            "grid_template_areas": null,
            "grid_template_columns": null,
            "grid_template_rows": null,
            "height": null,
            "justify_content": null,
            "justify_items": null,
            "left": null,
            "margin": null,
            "max_height": null,
            "max_width": null,
            "min_height": null,
            "min_width": null,
            "object_fit": null,
            "object_position": null,
            "order": null,
            "overflow": null,
            "overflow_x": null,
            "overflow_y": null,
            "padding": null,
            "right": null,
            "top": null,
            "visibility": null,
            "width": null
          }
        },
        "920446b0300f4fe99c2bb0041fc8607c": {
          "model_module": "@jupyter-widgets/base",
          "model_name": "LayoutModel",
          "model_module_version": "1.2.0",
          "state": {
            "_model_module": "@jupyter-widgets/base",
            "_model_module_version": "1.2.0",
            "_model_name": "LayoutModel",
            "_view_count": null,
            "_view_module": "@jupyter-widgets/base",
            "_view_module_version": "1.2.0",
            "_view_name": "LayoutView",
            "align_content": null,
            "align_items": null,
            "align_self": null,
            "border": null,
            "bottom": null,
            "display": null,
            "flex": null,
            "flex_flow": null,
            "grid_area": null,
            "grid_auto_columns": null,
            "grid_auto_flow": null,
            "grid_auto_rows": null,
            "grid_column": null,
            "grid_gap": null,
            "grid_row": null,
            "grid_template_areas": null,
            "grid_template_columns": null,
            "grid_template_rows": null,
            "height": null,
            "justify_content": null,
            "justify_items": null,
            "left": null,
            "margin": null,
            "max_height": null,
            "max_width": null,
            "min_height": null,
            "min_width": null,
            "object_fit": null,
            "object_position": null,
            "order": null,
            "overflow": null,
            "overflow_x": null,
            "overflow_y": null,
            "padding": null,
            "right": null,
            "top": null,
            "visibility": null,
            "width": null
          }
        },
        "b20c3867e0ed4ae9889a184d7a08baad": {
          "model_module": "@jupyter-widgets/controls",
          "model_name": "DescriptionStyleModel",
          "model_module_version": "1.5.0",
          "state": {
            "_model_module": "@jupyter-widgets/controls",
            "_model_module_version": "1.5.0",
            "_model_name": "DescriptionStyleModel",
            "_view_count": null,
            "_view_module": "@jupyter-widgets/base",
            "_view_module_version": "1.2.0",
            "_view_name": "StyleView",
            "description_width": ""
          }
        },
        "9d15b2707ed245b6bf5216bf1403a5ed": {
          "model_module": "@jupyter-widgets/base",
          "model_name": "LayoutModel",
          "model_module_version": "1.2.0",
          "state": {
            "_model_module": "@jupyter-widgets/base",
            "_model_module_version": "1.2.0",
            "_model_name": "LayoutModel",
            "_view_count": null,
            "_view_module": "@jupyter-widgets/base",
            "_view_module_version": "1.2.0",
            "_view_name": "LayoutView",
            "align_content": null,
            "align_items": null,
            "align_self": null,
            "border": null,
            "bottom": null,
            "display": null,
            "flex": null,
            "flex_flow": null,
            "grid_area": null,
            "grid_auto_columns": null,
            "grid_auto_flow": null,
            "grid_auto_rows": null,
            "grid_column": null,
            "grid_gap": null,
            "grid_row": null,
            "grid_template_areas": null,
            "grid_template_columns": null,
            "grid_template_rows": null,
            "height": null,
            "justify_content": null,
            "justify_items": null,
            "left": null,
            "margin": null,
            "max_height": null,
            "max_width": null,
            "min_height": null,
            "min_width": null,
            "object_fit": null,
            "object_position": null,
            "order": null,
            "overflow": null,
            "overflow_x": null,
            "overflow_y": null,
            "padding": null,
            "right": null,
            "top": null,
            "visibility": null,
            "width": null
          }
        },
        "293d4b232bb44bfcb25262723e26362e": {
          "model_module": "@jupyter-widgets/controls",
          "model_name": "ProgressStyleModel",
          "model_module_version": "1.5.0",
          "state": {
            "_model_module": "@jupyter-widgets/controls",
            "_model_module_version": "1.5.0",
            "_model_name": "ProgressStyleModel",
            "_view_count": null,
            "_view_module": "@jupyter-widgets/base",
            "_view_module_version": "1.2.0",
            "_view_name": "StyleView",
            "bar_color": null,
            "description_width": ""
          }
        },
        "ec3ed9013fd24b26ac524b2a171dac8f": {
          "model_module": "@jupyter-widgets/base",
          "model_name": "LayoutModel",
          "model_module_version": "1.2.0",
          "state": {
            "_model_module": "@jupyter-widgets/base",
            "_model_module_version": "1.2.0",
            "_model_name": "LayoutModel",
            "_view_count": null,
            "_view_module": "@jupyter-widgets/base",
            "_view_module_version": "1.2.0",
            "_view_name": "LayoutView",
            "align_content": null,
            "align_items": null,
            "align_self": null,
            "border": null,
            "bottom": null,
            "display": null,
            "flex": null,
            "flex_flow": null,
            "grid_area": null,
            "grid_auto_columns": null,
            "grid_auto_flow": null,
            "grid_auto_rows": null,
            "grid_column": null,
            "grid_gap": null,
            "grid_row": null,
            "grid_template_areas": null,
            "grid_template_columns": null,
            "grid_template_rows": null,
            "height": null,
            "justify_content": null,
            "justify_items": null,
            "left": null,
            "margin": null,
            "max_height": null,
            "max_width": null,
            "min_height": null,
            "min_width": null,
            "object_fit": null,
            "object_position": null,
            "order": null,
            "overflow": null,
            "overflow_x": null,
            "overflow_y": null,
            "padding": null,
            "right": null,
            "top": null,
            "visibility": null,
            "width": null
          }
        },
        "f973dd477a6e4f90b7771ff5eeb5f66e": {
          "model_module": "@jupyter-widgets/controls",
          "model_name": "DescriptionStyleModel",
          "model_module_version": "1.5.0",
          "state": {
            "_model_module": "@jupyter-widgets/controls",
            "_model_module_version": "1.5.0",
            "_model_name": "DescriptionStyleModel",
            "_view_count": null,
            "_view_module": "@jupyter-widgets/base",
            "_view_module_version": "1.2.0",
            "_view_name": "StyleView",
            "description_width": ""
          }
        },
        "972b657947994a5ca6af4d4f7b5b89a5": {
          "model_module": "@jupyter-widgets/controls",
          "model_name": "HBoxModel",
          "model_module_version": "1.5.0",
          "state": {
            "_dom_classes": [],
            "_model_module": "@jupyter-widgets/controls",
            "_model_module_version": "1.5.0",
            "_model_name": "HBoxModel",
            "_view_count": null,
            "_view_module": "@jupyter-widgets/controls",
            "_view_module_version": "1.5.0",
            "_view_name": "HBoxView",
            "box_style": "",
            "children": [
              "IPY_MODEL_3407ab1348464fe29c4a8f99982d2fa2",
              "IPY_MODEL_b500251af6f6451ab46ac43f66db71f8",
              "IPY_MODEL_e7c087392d194b8c917f94120a7c8587"
            ],
            "layout": "IPY_MODEL_9977a4983d684879b07464a1e928322a"
          }
        },
        "3407ab1348464fe29c4a8f99982d2fa2": {
          "model_module": "@jupyter-widgets/controls",
          "model_name": "HTMLModel",
          "model_module_version": "1.5.0",
          "state": {
            "_dom_classes": [],
            "_model_module": "@jupyter-widgets/controls",
            "_model_module_version": "1.5.0",
            "_model_name": "HTMLModel",
            "_view_count": null,
            "_view_module": "@jupyter-widgets/controls",
            "_view_module_version": "1.5.0",
            "_view_name": "HTMLView",
            "description": "",
            "description_tooltip": null,
            "layout": "IPY_MODEL_4a1453b82af2420da8797c488f43b4c5",
            "placeholder": "​",
            "style": "IPY_MODEL_cd28aa4a1f8d4d359c2788b8a993621a",
            "value": "Downloading spiece.model: 100%"
          }
        },
        "b500251af6f6451ab46ac43f66db71f8": {
          "model_module": "@jupyter-widgets/controls",
          "model_name": "FloatProgressModel",
          "model_module_version": "1.5.0",
          "state": {
            "_dom_classes": [],
            "_model_module": "@jupyter-widgets/controls",
            "_model_module_version": "1.5.0",
            "_model_name": "FloatProgressModel",
            "_view_count": null,
            "_view_module": "@jupyter-widgets/controls",
            "_view_module_version": "1.5.0",
            "_view_name": "ProgressView",
            "bar_style": "success",
            "description": "",
            "description_tooltip": null,
            "layout": "IPY_MODEL_dd2692162d9a4507bf288e1286298955",
            "max": 760289,
            "min": 0,
            "orientation": "horizontal",
            "style": "IPY_MODEL_a785492c557a418399f8da10a6b76aab",
            "value": 760289
          }
        },
        "e7c087392d194b8c917f94120a7c8587": {
          "model_module": "@jupyter-widgets/controls",
          "model_name": "HTMLModel",
          "model_module_version": "1.5.0",
          "state": {
            "_dom_classes": [],
            "_model_module": "@jupyter-widgets/controls",
            "_model_module_version": "1.5.0",
            "_model_name": "HTMLModel",
            "_view_count": null,
            "_view_module": "@jupyter-widgets/controls",
            "_view_module_version": "1.5.0",
            "_view_name": "HTMLView",
            "description": "",
            "description_tooltip": null,
            "layout": "IPY_MODEL_8ed4520169174ac5b2a0d4945900fdbb",
            "placeholder": "​",
            "style": "IPY_MODEL_40e01a8452ab43c9a9aea2cb4cdb8b4e",
            "value": " 742k/742k [00:00&lt;00:00, 1.04MB/s]"
          }
        },
        "9977a4983d684879b07464a1e928322a": {
          "model_module": "@jupyter-widgets/base",
          "model_name": "LayoutModel",
          "model_module_version": "1.2.0",
          "state": {
            "_model_module": "@jupyter-widgets/base",
            "_model_module_version": "1.2.0",
            "_model_name": "LayoutModel",
            "_view_count": null,
            "_view_module": "@jupyter-widgets/base",
            "_view_module_version": "1.2.0",
            "_view_name": "LayoutView",
            "align_content": null,
            "align_items": null,
            "align_self": null,
            "border": null,
            "bottom": null,
            "display": null,
            "flex": null,
            "flex_flow": null,
            "grid_area": null,
            "grid_auto_columns": null,
            "grid_auto_flow": null,
            "grid_auto_rows": null,
            "grid_column": null,
            "grid_gap": null,
            "grid_row": null,
            "grid_template_areas": null,
            "grid_template_columns": null,
            "grid_template_rows": null,
            "height": null,
            "justify_content": null,
            "justify_items": null,
            "left": null,
            "margin": null,
            "max_height": null,
            "max_width": null,
            "min_height": null,
            "min_width": null,
            "object_fit": null,
            "object_position": null,
            "order": null,
            "overflow": null,
            "overflow_x": null,
            "overflow_y": null,
            "padding": null,
            "right": null,
            "top": null,
            "visibility": null,
            "width": null
          }
        },
        "4a1453b82af2420da8797c488f43b4c5": {
          "model_module": "@jupyter-widgets/base",
          "model_name": "LayoutModel",
          "model_module_version": "1.2.0",
          "state": {
            "_model_module": "@jupyter-widgets/base",
            "_model_module_version": "1.2.0",
            "_model_name": "LayoutModel",
            "_view_count": null,
            "_view_module": "@jupyter-widgets/base",
            "_view_module_version": "1.2.0",
            "_view_name": "LayoutView",
            "align_content": null,
            "align_items": null,
            "align_self": null,
            "border": null,
            "bottom": null,
            "display": null,
            "flex": null,
            "flex_flow": null,
            "grid_area": null,
            "grid_auto_columns": null,
            "grid_auto_flow": null,
            "grid_auto_rows": null,
            "grid_column": null,
            "grid_gap": null,
            "grid_row": null,
            "grid_template_areas": null,
            "grid_template_columns": null,
            "grid_template_rows": null,
            "height": null,
            "justify_content": null,
            "justify_items": null,
            "left": null,
            "margin": null,
            "max_height": null,
            "max_width": null,
            "min_height": null,
            "min_width": null,
            "object_fit": null,
            "object_position": null,
            "order": null,
            "overflow": null,
            "overflow_x": null,
            "overflow_y": null,
            "padding": null,
            "right": null,
            "top": null,
            "visibility": null,
            "width": null
          }
        },
        "cd28aa4a1f8d4d359c2788b8a993621a": {
          "model_module": "@jupyter-widgets/controls",
          "model_name": "DescriptionStyleModel",
          "model_module_version": "1.5.0",
          "state": {
            "_model_module": "@jupyter-widgets/controls",
            "_model_module_version": "1.5.0",
            "_model_name": "DescriptionStyleModel",
            "_view_count": null,
            "_view_module": "@jupyter-widgets/base",
            "_view_module_version": "1.2.0",
            "_view_name": "StyleView",
            "description_width": ""
          }
        },
        "dd2692162d9a4507bf288e1286298955": {
          "model_module": "@jupyter-widgets/base",
          "model_name": "LayoutModel",
          "model_module_version": "1.2.0",
          "state": {
            "_model_module": "@jupyter-widgets/base",
            "_model_module_version": "1.2.0",
            "_model_name": "LayoutModel",
            "_view_count": null,
            "_view_module": "@jupyter-widgets/base",
            "_view_module_version": "1.2.0",
            "_view_name": "LayoutView",
            "align_content": null,
            "align_items": null,
            "align_self": null,
            "border": null,
            "bottom": null,
            "display": null,
            "flex": null,
            "flex_flow": null,
            "grid_area": null,
            "grid_auto_columns": null,
            "grid_auto_flow": null,
            "grid_auto_rows": null,
            "grid_column": null,
            "grid_gap": null,
            "grid_row": null,
            "grid_template_areas": null,
            "grid_template_columns": null,
            "grid_template_rows": null,
            "height": null,
            "justify_content": null,
            "justify_items": null,
            "left": null,
            "margin": null,
            "max_height": null,
            "max_width": null,
            "min_height": null,
            "min_width": null,
            "object_fit": null,
            "object_position": null,
            "order": null,
            "overflow": null,
            "overflow_x": null,
            "overflow_y": null,
            "padding": null,
            "right": null,
            "top": null,
            "visibility": null,
            "width": null
          }
        },
        "a785492c557a418399f8da10a6b76aab": {
          "model_module": "@jupyter-widgets/controls",
          "model_name": "ProgressStyleModel",
          "model_module_version": "1.5.0",
          "state": {
            "_model_module": "@jupyter-widgets/controls",
            "_model_module_version": "1.5.0",
            "_model_name": "ProgressStyleModel",
            "_view_count": null,
            "_view_module": "@jupyter-widgets/base",
            "_view_module_version": "1.2.0",
            "_view_name": "StyleView",
            "bar_color": null,
            "description_width": ""
          }
        },
        "8ed4520169174ac5b2a0d4945900fdbb": {
          "model_module": "@jupyter-widgets/base",
          "model_name": "LayoutModel",
          "model_module_version": "1.2.0",
          "state": {
            "_model_module": "@jupyter-widgets/base",
            "_model_module_version": "1.2.0",
            "_model_name": "LayoutModel",
            "_view_count": null,
            "_view_module": "@jupyter-widgets/base",
            "_view_module_version": "1.2.0",
            "_view_name": "LayoutView",
            "align_content": null,
            "align_items": null,
            "align_self": null,
            "border": null,
            "bottom": null,
            "display": null,
            "flex": null,
            "flex_flow": null,
            "grid_area": null,
            "grid_auto_columns": null,
            "grid_auto_flow": null,
            "grid_auto_rows": null,
            "grid_column": null,
            "grid_gap": null,
            "grid_row": null,
            "grid_template_areas": null,
            "grid_template_columns": null,
            "grid_template_rows": null,
            "height": null,
            "justify_content": null,
            "justify_items": null,
            "left": null,
            "margin": null,
            "max_height": null,
            "max_width": null,
            "min_height": null,
            "min_width": null,
            "object_fit": null,
            "object_position": null,
            "order": null,
            "overflow": null,
            "overflow_x": null,
            "overflow_y": null,
            "padding": null,
            "right": null,
            "top": null,
            "visibility": null,
            "width": null
          }
        },
        "40e01a8452ab43c9a9aea2cb4cdb8b4e": {
          "model_module": "@jupyter-widgets/controls",
          "model_name": "DescriptionStyleModel",
          "model_module_version": "1.5.0",
          "state": {
            "_model_module": "@jupyter-widgets/controls",
            "_model_module_version": "1.5.0",
            "_model_name": "DescriptionStyleModel",
            "_view_count": null,
            "_view_module": "@jupyter-widgets/base",
            "_view_module_version": "1.2.0",
            "_view_name": "StyleView",
            "description_width": ""
          }
        },
        "dd6000764fe54127bf169313a3a3ed24": {
          "model_module": "@jupyter-widgets/controls",
          "model_name": "HBoxModel",
          "model_module_version": "1.5.0",
          "state": {
            "_dom_classes": [],
            "_model_module": "@jupyter-widgets/controls",
            "_model_module_version": "1.5.0",
            "_model_name": "HBoxModel",
            "_view_count": null,
            "_view_module": "@jupyter-widgets/controls",
            "_view_module_version": "1.5.0",
            "_view_name": "HBoxView",
            "box_style": "",
            "children": [
              "IPY_MODEL_1210f86ef0624ea491f3ed9dbe395649",
              "IPY_MODEL_be85585c5092449988bf37b6b3c337ca",
              "IPY_MODEL_d4786ac4a9d6451da89bb7f2f27aa378"
            ],
            "layout": "IPY_MODEL_f974bd9d4b47431ebc48715b7b7146f0"
          }
        },
        "1210f86ef0624ea491f3ed9dbe395649": {
          "model_module": "@jupyter-widgets/controls",
          "model_name": "HTMLModel",
          "model_module_version": "1.5.0",
          "state": {
            "_dom_classes": [],
            "_model_module": "@jupyter-widgets/controls",
            "_model_module_version": "1.5.0",
            "_model_name": "HTMLModel",
            "_view_count": null,
            "_view_module": "@jupyter-widgets/controls",
            "_view_module_version": "1.5.0",
            "_view_name": "HTMLView",
            "description": "",
            "description_tooltip": null,
            "layout": "IPY_MODEL_69a5ece318a940dc91a38db026588448",
            "placeholder": "​",
            "style": "IPY_MODEL_c2dc15200d0042c39bdc2673f6f9a1fd",
            "value": "Downloading tokenizer.json: 100%"
          }
        },
        "be85585c5092449988bf37b6b3c337ca": {
          "model_module": "@jupyter-widgets/controls",
          "model_name": "FloatProgressModel",
          "model_module_version": "1.5.0",
          "state": {
            "_dom_classes": [],
            "_model_module": "@jupyter-widgets/controls",
            "_model_module_version": "1.5.0",
            "_model_name": "FloatProgressModel",
            "_view_count": null,
            "_view_module": "@jupyter-widgets/controls",
            "_view_module_version": "1.5.0",
            "_view_name": "ProgressView",
            "bar_style": "success",
            "description": "",
            "description_tooltip": null,
            "layout": "IPY_MODEL_5da4893fe03142f3ae9bf6fb5f0ad6fb",
            "max": 1312669,
            "min": 0,
            "orientation": "horizontal",
            "style": "IPY_MODEL_beb82fae059a45aeaec902cb69841b16",
            "value": 1312669
          }
        },
        "d4786ac4a9d6451da89bb7f2f27aa378": {
          "model_module": "@jupyter-widgets/controls",
          "model_name": "HTMLModel",
          "model_module_version": "1.5.0",
          "state": {
            "_dom_classes": [],
            "_model_module": "@jupyter-widgets/controls",
            "_model_module_version": "1.5.0",
            "_model_name": "HTMLModel",
            "_view_count": null,
            "_view_module": "@jupyter-widgets/controls",
            "_view_module_version": "1.5.0",
            "_view_name": "HTMLView",
            "description": "",
            "description_tooltip": null,
            "layout": "IPY_MODEL_bc5f553f6bff4457aa0cf1761b57bc59",
            "placeholder": "​",
            "style": "IPY_MODEL_4e4a26dcc60947c7a891b735430b68d3",
            "value": " 1.25M/1.25M [00:00&lt;00:00, 1.70MB/s]"
          }
        },
        "f974bd9d4b47431ebc48715b7b7146f0": {
          "model_module": "@jupyter-widgets/base",
          "model_name": "LayoutModel",
          "model_module_version": "1.2.0",
          "state": {
            "_model_module": "@jupyter-widgets/base",
            "_model_module_version": "1.2.0",
            "_model_name": "LayoutModel",
            "_view_count": null,
            "_view_module": "@jupyter-widgets/base",
            "_view_module_version": "1.2.0",
            "_view_name": "LayoutView",
            "align_content": null,
            "align_items": null,
            "align_self": null,
            "border": null,
            "bottom": null,
            "display": null,
            "flex": null,
            "flex_flow": null,
            "grid_area": null,
            "grid_auto_columns": null,
            "grid_auto_flow": null,
            "grid_auto_rows": null,
            "grid_column": null,
            "grid_gap": null,
            "grid_row": null,
            "grid_template_areas": null,
            "grid_template_columns": null,
            "grid_template_rows": null,
            "height": null,
            "justify_content": null,
            "justify_items": null,
            "left": null,
            "margin": null,
            "max_height": null,
            "max_width": null,
            "min_height": null,
            "min_width": null,
            "object_fit": null,
            "object_position": null,
            "order": null,
            "overflow": null,
            "overflow_x": null,
            "overflow_y": null,
            "padding": null,
            "right": null,
            "top": null,
            "visibility": null,
            "width": null
          }
        },
        "69a5ece318a940dc91a38db026588448": {
          "model_module": "@jupyter-widgets/base",
          "model_name": "LayoutModel",
          "model_module_version": "1.2.0",
          "state": {
            "_model_module": "@jupyter-widgets/base",
            "_model_module_version": "1.2.0",
            "_model_name": "LayoutModel",
            "_view_count": null,
            "_view_module": "@jupyter-widgets/base",
            "_view_module_version": "1.2.0",
            "_view_name": "LayoutView",
            "align_content": null,
            "align_items": null,
            "align_self": null,
            "border": null,
            "bottom": null,
            "display": null,
            "flex": null,
            "flex_flow": null,
            "grid_area": null,
            "grid_auto_columns": null,
            "grid_auto_flow": null,
            "grid_auto_rows": null,
            "grid_column": null,
            "grid_gap": null,
            "grid_row": null,
            "grid_template_areas": null,
            "grid_template_columns": null,
            "grid_template_rows": null,
            "height": null,
            "justify_content": null,
            "justify_items": null,
            "left": null,
            "margin": null,
            "max_height": null,
            "max_width": null,
            "min_height": null,
            "min_width": null,
            "object_fit": null,
            "object_position": null,
            "order": null,
            "overflow": null,
            "overflow_x": null,
            "overflow_y": null,
            "padding": null,
            "right": null,
            "top": null,
            "visibility": null,
            "width": null
          }
        },
        "c2dc15200d0042c39bdc2673f6f9a1fd": {
          "model_module": "@jupyter-widgets/controls",
          "model_name": "DescriptionStyleModel",
          "model_module_version": "1.5.0",
          "state": {
            "_model_module": "@jupyter-widgets/controls",
            "_model_module_version": "1.5.0",
            "_model_name": "DescriptionStyleModel",
            "_view_count": null,
            "_view_module": "@jupyter-widgets/base",
            "_view_module_version": "1.2.0",
            "_view_name": "StyleView",
            "description_width": ""
          }
        },
        "5da4893fe03142f3ae9bf6fb5f0ad6fb": {
          "model_module": "@jupyter-widgets/base",
          "model_name": "LayoutModel",
          "model_module_version": "1.2.0",
          "state": {
            "_model_module": "@jupyter-widgets/base",
            "_model_module_version": "1.2.0",
            "_model_name": "LayoutModel",
            "_view_count": null,
            "_view_module": "@jupyter-widgets/base",
            "_view_module_version": "1.2.0",
            "_view_name": "LayoutView",
            "align_content": null,
            "align_items": null,
            "align_self": null,
            "border": null,
            "bottom": null,
            "display": null,
            "flex": null,
            "flex_flow": null,
            "grid_area": null,
            "grid_auto_columns": null,
            "grid_auto_flow": null,
            "grid_auto_rows": null,
            "grid_column": null,
            "grid_gap": null,
            "grid_row": null,
            "grid_template_areas": null,
            "grid_template_columns": null,
            "grid_template_rows": null,
            "height": null,
            "justify_content": null,
            "justify_items": null,
            "left": null,
            "margin": null,
            "max_height": null,
            "max_width": null,
            "min_height": null,
            "min_width": null,
            "object_fit": null,
            "object_position": null,
            "order": null,
            "overflow": null,
            "overflow_x": null,
            "overflow_y": null,
            "padding": null,
            "right": null,
            "top": null,
            "visibility": null,
            "width": null
          }
        },
        "beb82fae059a45aeaec902cb69841b16": {
          "model_module": "@jupyter-widgets/controls",
          "model_name": "ProgressStyleModel",
          "model_module_version": "1.5.0",
          "state": {
            "_model_module": "@jupyter-widgets/controls",
            "_model_module_version": "1.5.0",
            "_model_name": "ProgressStyleModel",
            "_view_count": null,
            "_view_module": "@jupyter-widgets/base",
            "_view_module_version": "1.2.0",
            "_view_name": "StyleView",
            "bar_color": null,
            "description_width": ""
          }
        },
        "bc5f553f6bff4457aa0cf1761b57bc59": {
          "model_module": "@jupyter-widgets/base",
          "model_name": "LayoutModel",
          "model_module_version": "1.2.0",
          "state": {
            "_model_module": "@jupyter-widgets/base",
            "_model_module_version": "1.2.0",
            "_model_name": "LayoutModel",
            "_view_count": null,
            "_view_module": "@jupyter-widgets/base",
            "_view_module_version": "1.2.0",
            "_view_name": "LayoutView",
            "align_content": null,
            "align_items": null,
            "align_self": null,
            "border": null,
            "bottom": null,
            "display": null,
            "flex": null,
            "flex_flow": null,
            "grid_area": null,
            "grid_auto_columns": null,
            "grid_auto_flow": null,
            "grid_auto_rows": null,
            "grid_column": null,
            "grid_gap": null,
            "grid_row": null,
            "grid_template_areas": null,
            "grid_template_columns": null,
            "grid_template_rows": null,
            "height": null,
            "justify_content": null,
            "justify_items": null,
            "left": null,
            "margin": null,
            "max_height": null,
            "max_width": null,
            "min_height": null,
            "min_width": null,
            "object_fit": null,
            "object_position": null,
            "order": null,
            "overflow": null,
            "overflow_x": null,
            "overflow_y": null,
            "padding": null,
            "right": null,
            "top": null,
            "visibility": null,
            "width": null
          }
        },
        "4e4a26dcc60947c7a891b735430b68d3": {
          "model_module": "@jupyter-widgets/controls",
          "model_name": "DescriptionStyleModel",
          "model_module_version": "1.5.0",
          "state": {
            "_model_module": "@jupyter-widgets/controls",
            "_model_module_version": "1.5.0",
            "_model_name": "DescriptionStyleModel",
            "_view_count": null,
            "_view_module": "@jupyter-widgets/base",
            "_view_module_version": "1.2.0",
            "_view_name": "StyleView",
            "description_width": ""
          }
        },
        "8135be93a41b42758d16ae34de760437": {
          "model_module": "@jupyter-widgets/controls",
          "model_name": "HBoxModel",
          "model_module_version": "1.5.0",
          "state": {
            "_dom_classes": [],
            "_model_module": "@jupyter-widgets/controls",
            "_model_module_version": "1.5.0",
            "_model_name": "HBoxModel",
            "_view_count": null,
            "_view_module": "@jupyter-widgets/controls",
            "_view_module_version": "1.5.0",
            "_view_name": "HBoxView",
            "box_style": "",
            "children": [
              "IPY_MODEL_27553babbbf44b738f5323cf5de86938",
              "IPY_MODEL_e72bf6b9ca6e4452a2a3e9b06a497ad3",
              "IPY_MODEL_749a568a1629426a8725634bc134517e"
            ],
            "layout": "IPY_MODEL_3a7e6e8def184a3f818af53a2916b8b6"
          }
        },
        "27553babbbf44b738f5323cf5de86938": {
          "model_module": "@jupyter-widgets/controls",
          "model_name": "HTMLModel",
          "model_module_version": "1.5.0",
          "state": {
            "_dom_classes": [],
            "_model_module": "@jupyter-widgets/controls",
            "_model_module_version": "1.5.0",
            "_model_name": "HTMLModel",
            "_view_count": null,
            "_view_module": "@jupyter-widgets/controls",
            "_view_module_version": "1.5.0",
            "_view_name": "HTMLView",
            "description": "",
            "description_tooltip": null,
            "layout": "IPY_MODEL_4f12ff9bb20747ecbc9bb5ebde73593d",
            "placeholder": "​",
            "style": "IPY_MODEL_9342d340648b49ea9a8b79683a3b4d7b",
            "value": "Downloading tf_model.h5: 100%"
          }
        },
        "e72bf6b9ca6e4452a2a3e9b06a497ad3": {
          "model_module": "@jupyter-widgets/controls",
          "model_name": "FloatProgressModel",
          "model_module_version": "1.5.0",
          "state": {
            "_dom_classes": [],
            "_model_module": "@jupyter-widgets/controls",
            "_model_module_version": "1.5.0",
            "_model_name": "FloatProgressModel",
            "_view_count": null,
            "_view_module": "@jupyter-widgets/controls",
            "_view_module_version": "1.5.0",
            "_view_name": "ProgressView",
            "bar_style": "success",
            "description": "",
            "description_tooltip": null,
            "layout": "IPY_MODEL_a4f6cc02b3a6485cabc2dc2a9c88f78b",
            "max": 63048440,
            "min": 0,
            "orientation": "horizontal",
            "style": "IPY_MODEL_1f457b38f20b403194e54daeae267fe1",
            "value": 63048440
          }
        },
        "749a568a1629426a8725634bc134517e": {
          "model_module": "@jupyter-widgets/controls",
          "model_name": "HTMLModel",
          "model_module_version": "1.5.0",
          "state": {
            "_dom_classes": [],
            "_model_module": "@jupyter-widgets/controls",
            "_model_module_version": "1.5.0",
            "_model_name": "HTMLModel",
            "_view_count": null,
            "_view_module": "@jupyter-widgets/controls",
            "_view_module_version": "1.5.0",
            "_view_name": "HTMLView",
            "description": "",
            "description_tooltip": null,
            "layout": "IPY_MODEL_c7c0efd1d2e74c40a5a81756301848fa",
            "placeholder": "​",
            "style": "IPY_MODEL_e4e42f4eeba1420a93b6e8dd9cb9a116",
            "value": " 60.1M/60.1M [00:01&lt;00:00, 69.6MB/s]"
          }
        },
        "3a7e6e8def184a3f818af53a2916b8b6": {
          "model_module": "@jupyter-widgets/base",
          "model_name": "LayoutModel",
          "model_module_version": "1.2.0",
          "state": {
            "_model_module": "@jupyter-widgets/base",
            "_model_module_version": "1.2.0",
            "_model_name": "LayoutModel",
            "_view_count": null,
            "_view_module": "@jupyter-widgets/base",
            "_view_module_version": "1.2.0",
            "_view_name": "LayoutView",
            "align_content": null,
            "align_items": null,
            "align_self": null,
            "border": null,
            "bottom": null,
            "display": null,
            "flex": null,
            "flex_flow": null,
            "grid_area": null,
            "grid_auto_columns": null,
            "grid_auto_flow": null,
            "grid_auto_rows": null,
            "grid_column": null,
            "grid_gap": null,
            "grid_row": null,
            "grid_template_areas": null,
            "grid_template_columns": null,
            "grid_template_rows": null,
            "height": null,
            "justify_content": null,
            "justify_items": null,
            "left": null,
            "margin": null,
            "max_height": null,
            "max_width": null,
            "min_height": null,
            "min_width": null,
            "object_fit": null,
            "object_position": null,
            "order": null,
            "overflow": null,
            "overflow_x": null,
            "overflow_y": null,
            "padding": null,
            "right": null,
            "top": null,
            "visibility": null,
            "width": null
          }
        },
        "4f12ff9bb20747ecbc9bb5ebde73593d": {
          "model_module": "@jupyter-widgets/base",
          "model_name": "LayoutModel",
          "model_module_version": "1.2.0",
          "state": {
            "_model_module": "@jupyter-widgets/base",
            "_model_module_version": "1.2.0",
            "_model_name": "LayoutModel",
            "_view_count": null,
            "_view_module": "@jupyter-widgets/base",
            "_view_module_version": "1.2.0",
            "_view_name": "LayoutView",
            "align_content": null,
            "align_items": null,
            "align_self": null,
            "border": null,
            "bottom": null,
            "display": null,
            "flex": null,
            "flex_flow": null,
            "grid_area": null,
            "grid_auto_columns": null,
            "grid_auto_flow": null,
            "grid_auto_rows": null,
            "grid_column": null,
            "grid_gap": null,
            "grid_row": null,
            "grid_template_areas": null,
            "grid_template_columns": null,
            "grid_template_rows": null,
            "height": null,
            "justify_content": null,
            "justify_items": null,
            "left": null,
            "margin": null,
            "max_height": null,
            "max_width": null,
            "min_height": null,
            "min_width": null,
            "object_fit": null,
            "object_position": null,
            "order": null,
            "overflow": null,
            "overflow_x": null,
            "overflow_y": null,
            "padding": null,
            "right": null,
            "top": null,
            "visibility": null,
            "width": null
          }
        },
        "9342d340648b49ea9a8b79683a3b4d7b": {
          "model_module": "@jupyter-widgets/controls",
          "model_name": "DescriptionStyleModel",
          "model_module_version": "1.5.0",
          "state": {
            "_model_module": "@jupyter-widgets/controls",
            "_model_module_version": "1.5.0",
            "_model_name": "DescriptionStyleModel",
            "_view_count": null,
            "_view_module": "@jupyter-widgets/base",
            "_view_module_version": "1.2.0",
            "_view_name": "StyleView",
            "description_width": ""
          }
        },
        "a4f6cc02b3a6485cabc2dc2a9c88f78b": {
          "model_module": "@jupyter-widgets/base",
          "model_name": "LayoutModel",
          "model_module_version": "1.2.0",
          "state": {
            "_model_module": "@jupyter-widgets/base",
            "_model_module_version": "1.2.0",
            "_model_name": "LayoutModel",
            "_view_count": null,
            "_view_module": "@jupyter-widgets/base",
            "_view_module_version": "1.2.0",
            "_view_name": "LayoutView",
            "align_content": null,
            "align_items": null,
            "align_self": null,
            "border": null,
            "bottom": null,
            "display": null,
            "flex": null,
            "flex_flow": null,
            "grid_area": null,
            "grid_auto_columns": null,
            "grid_auto_flow": null,
            "grid_auto_rows": null,
            "grid_column": null,
            "grid_gap": null,
            "grid_row": null,
            "grid_template_areas": null,
            "grid_template_columns": null,
            "grid_template_rows": null,
            "height": null,
            "justify_content": null,
            "justify_items": null,
            "left": null,
            "margin": null,
            "max_height": null,
            "max_width": null,
            "min_height": null,
            "min_width": null,
            "object_fit": null,
            "object_position": null,
            "order": null,
            "overflow": null,
            "overflow_x": null,
            "overflow_y": null,
            "padding": null,
            "right": null,
            "top": null,
            "visibility": null,
            "width": null
          }
        },
        "1f457b38f20b403194e54daeae267fe1": {
          "model_module": "@jupyter-widgets/controls",
          "model_name": "ProgressStyleModel",
          "model_module_version": "1.5.0",
          "state": {
            "_model_module": "@jupyter-widgets/controls",
            "_model_module_version": "1.5.0",
            "_model_name": "ProgressStyleModel",
            "_view_count": null,
            "_view_module": "@jupyter-widgets/base",
            "_view_module_version": "1.2.0",
            "_view_name": "StyleView",
            "bar_color": null,
            "description_width": ""
          }
        },
        "c7c0efd1d2e74c40a5a81756301848fa": {
          "model_module": "@jupyter-widgets/base",
          "model_name": "LayoutModel",
          "model_module_version": "1.2.0",
          "state": {
            "_model_module": "@jupyter-widgets/base",
            "_model_module_version": "1.2.0",
            "_model_name": "LayoutModel",
            "_view_count": null,
            "_view_module": "@jupyter-widgets/base",
            "_view_module_version": "1.2.0",
            "_view_name": "LayoutView",
            "align_content": null,
            "align_items": null,
            "align_self": null,
            "border": null,
            "bottom": null,
            "display": null,
            "flex": null,
            "flex_flow": null,
            "grid_area": null,
            "grid_auto_columns": null,
            "grid_auto_flow": null,
            "grid_auto_rows": null,
            "grid_column": null,
            "grid_gap": null,
            "grid_row": null,
            "grid_template_areas": null,
            "grid_template_columns": null,
            "grid_template_rows": null,
            "height": null,
            "justify_content": null,
            "justify_items": null,
            "left": null,
            "margin": null,
            "max_height": null,
            "max_width": null,
            "min_height": null,
            "min_width": null,
            "object_fit": null,
            "object_position": null,
            "order": null,
            "overflow": null,
            "overflow_x": null,
            "overflow_y": null,
            "padding": null,
            "right": null,
            "top": null,
            "visibility": null,
            "width": null
          }
        },
        "e4e42f4eeba1420a93b6e8dd9cb9a116": {
          "model_module": "@jupyter-widgets/controls",
          "model_name": "DescriptionStyleModel",
          "model_module_version": "1.5.0",
          "state": {
            "_model_module": "@jupyter-widgets/controls",
            "_model_module_version": "1.5.0",
            "_model_name": "DescriptionStyleModel",
            "_view_count": null,
            "_view_module": "@jupyter-widgets/base",
            "_view_module_version": "1.2.0",
            "_view_name": "StyleView",
            "description_width": ""
          }
        }
      }
    }
  },
  "nbformat": 4,
  "nbformat_minor": 5
}